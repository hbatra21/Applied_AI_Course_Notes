{
 "cells": [
  {
   "cell_type": "markdown",
   "metadata": {},
   "source": [
    "# Amazon Reviews Classification Using Random Forest and GradientBoosting"
   ]
  },
  {
   "cell_type": "code",
   "execution_count": 10,
   "metadata": {},
   "outputs": [],
   "source": [
    "%matplotlib inline\n",
    "\n",
    "import pandas as pd #for data frames\n",
    "import numpy as np #numpy array operations\n",
    "import string\n",
    "import matplotlib.pyplot as plt\n",
    "from sklearn.feature_extraction.text import TfidfTransformer\n",
    "from sklearn.feature_extraction.text import TfidfVectorizer\n",
    "from sklearn.feature_extraction.text import CountVectorizer\n",
    "import pickle\n",
    "from sklearn.cross_validation import train_test_split\n",
    "import seaborn as sn\n",
    "from sklearn.metrics import accuracy_score\n",
    "from sklearn.cross_validation import cross_val_score\n",
    "from sklearn import cross_validation\n",
    "from sklearn.model_selection import train_test_split\n",
    "from sklearn.metrics import average_precision_score,f1_score,precision_score,recall_score,auc,log_loss,confusion_matrix\n",
    "from sklearn.grid_search import GridSearchCV\n",
    "from sklearn.model_selection import RandomizedSearchCV\n",
    "from sklearn.metrics import roc_curve, auc\n",
    "\n",
    "from scipy.stats import expon\n",
    "import random\n",
    "\n",
    "from sklearn.ensemble import RandomForestClassifier\n",
    "from sklearn.ensemble import GradientBoostingClassifier\n",
    "from xgboost import XGBClassifier"
   ]
  },
  {
   "cell_type": "code",
   "execution_count": 2,
   "metadata": {},
   "outputs": [
    {
     "name": "stderr",
     "output_type": "stream",
     "text": [
      "C:\\Users\\Dell\\Anaconda3\\lib\\site-packages\\sklearn\\base.py:315: UserWarning: Trying to unpickle estimator CountVectorizer from version 0.19.1 when using version 0.18.1. This might lead to breaking code or invalid results. Use at your own risk.\n",
      "  UserWarning)\n",
      "C:\\Users\\Dell\\Anaconda3\\lib\\site-packages\\sklearn\\base.py:315: UserWarning: Trying to unpickle estimator TfidfTransformer from version 0.19.1 when using version 0.18.1. This might lead to breaking code or invalid results. Use at your own risk.\n",
      "  UserWarning)\n",
      "C:\\Users\\Dell\\Anaconda3\\lib\\site-packages\\sklearn\\base.py:315: UserWarning: Trying to unpickle estimator TfidfVectorizer from version 0.19.1 when using version 0.18.1. This might lead to breaking code or invalid results. Use at your own risk.\n",
      "  UserWarning)\n"
     ]
    }
   ],
   "source": [
    "pickle_in=open(\"cleanedData.pickle\",\"rb\")\n",
    "final = pickle.load(pickle_in)\n",
    "\n",
    "import pickle\n",
    "pickle_in = open(\"BOW_tfidf_avgW2V_Train_test_data.pickle\",\"rb\")\n",
    "\n",
    "count_vect = pickle.load(pickle_in) #BOW\n",
    "final_counts_train = pickle.load(pickle_in) #BOW\n",
    "final_counts_test = pickle.load(pickle_in) #BOW\n",
    "tf_idf_vect = pickle.load(pickle_in) #tfidf\n",
    "final_tf_idf_train = pickle.load(pickle_in) #tfidf\n",
    "final_tf_idf_test = pickle.load(pickle_in) #tfidf\n",
    "features = pickle.load(pickle_in) \n",
    "sent_vectors_train = pickle.load(pickle_in) #avgW2v Vectors\n",
    "sent_vectors_test = pickle.load(pickle_in) #avgW2v Vectors"
   ]
  },
  {
   "cell_type": "code",
   "execution_count": 3,
   "metadata": {},
   "outputs": [
    {
     "data": {
      "text/plain": [
       "364171"
      ]
     },
     "execution_count": 3,
     "metadata": {},
     "output_type": "execute_result"
    }
   ],
   "source": [
    "train_data = final.head(int(0.80*final.shape[0]))\n",
    "test_data = final.head(int(0.20*final.shape[0])+1)\n",
    "\n",
    "scores = final['Score'].get_values()\n",
    "len(scores)"
   ]
  },
  {
   "cell_type": "code",
   "execution_count": 28,
   "metadata": {},
   "outputs": [],
   "source": [
    "def convScores(scores):\n",
    "    li = lambda x: 1 if x=='positive'  else 0\n",
    "    final_scores = []\n",
    "    for i in range(0,len(scores)):\n",
    "        final_scores.append(li(scores[i]))\n",
    "    return final_scores\n",
    "\n",
    "def convToNpArray(arr):\n",
    "    if(type(arr) == list):\n",
    "        arr = np.array(arr)\n",
    "        return arr\n",
    "    else:\n",
    "        return arr;\n",
    "def confusionMatrix(y_test,pred):\n",
    "    df_cm = pd.DataFrame(confusion_matrix(y_test, pred), index = ['False','True'],\n",
    "                      columns = ['False','True'])\n",
    "    sn.heatmap(df_cm, annot=True)\n",
    "    plt.title('Confusion Matrix')\n",
    "    plt.ylabel('Actual')\n",
    "    plt.xlabel('Predicted')\n",
    "    plt.show()\n",
    "def auc_roc(y_test,pred):\n",
    "    fpr, tpr, thresholds = roc_curve(y_test,pred)\n",
    "    acc = auc(fpr, tpr)\n",
    "    print(\"Area Under The Curve is : \",acc)\n",
    "    plt.figure()\n",
    "\n",
    "    plt.plot(fpr, tpr, color='darkorange',\n",
    "              label='ROC curve (area/auc = %0.2f)' % acc)\n",
    "    plt.xlabel('False Positive Rate')\n",
    "    plt.ylabel('True Positive Rate')\n",
    "    plt.title('Receiver operating characteristic Curve')\n",
    "    plt.legend(loc=\"lower right\")\n",
    "    plt.show()\n",
    "def show_most_informative_features(vectorizer, clf, n=20):\n",
    "    feature_names = vectorizer.get_feature_names()\n",
    "    coefs_with_fns = sorted(zip(clf.feature_importances_, feature_names))\n",
    "    top = zip(coefs_with_fns[:n], coefs_with_fns[:-(n + 1):-1])\n",
    "    print(\"These are the top {} important Features Which are most widely used in Positive and Negative Reviews:\".format(n))\n",
    "    print(\"\")\n",
    "    print(\"\\tPositive: \\t\\t\\tNegative:\")\n",
    "    for (coef_1, fn_1), (coef_2, fn_2) in top:\n",
    "        print(\"\")\n",
    "        print(\"\\t%-15s\\t\\t\\t%-15s\" % (fn_2,fn_1))"
   ]
  },
  {
   "cell_type": "markdown",
   "metadata": {},
   "source": [
    "# RF"
   ]
  },
  {
   "cell_type": "markdown",
   "metadata": {},
   "source": [
    "## Avg W2V RF"
   ]
  },
  {
   "cell_type": "code",
   "execution_count": 29,
   "metadata": {},
   "outputs": [],
   "source": [
    "x_1 = sent_vectors_train[0:50000]\n",
    "\n",
    "\n",
    "# this is only Score/rating  of data\n",
    "\n",
    "y_1 = convScores(train_data['Score'].get_values())[0:50000]\n",
    "\n",
    "x_test = sent_vectors_test[0:6000]\n",
    "y_test = convScores(test_data['Score'].get_values())[0:6000]\n",
    "\n",
    "\n",
    "x_1 = convToNpArray(x_1)\n",
    "x_test = convToNpArray(x_test)\n",
    "y_1 = convToNpArray(y_1)\n",
    "y_test = convToNpArray(y_test)"
   ]
  },
  {
   "cell_type": "markdown",
   "metadata": {},
   "source": [
    "#### Considering n_estimators/k and max_depth as hyperparameters"
   ]
  },
  {
   "cell_type": "code",
   "execution_count": 30,
   "metadata": {},
   "outputs": [
    {
     "name": "stdout",
     "output_type": "stream",
     "text": [
      "RandomForestClassifier(bootstrap=True, class_weight='balanced',\n",
      "            criterion='gini', max_depth=20, max_features='auto',\n",
      "            max_leaf_nodes=None, min_impurity_split=1e-07,\n",
      "            min_samples_leaf=1, min_samples_split=2,\n",
      "            min_weight_fraction_leaf=0.0, n_estimators=40, n_jobs=-1,\n",
      "            oob_score=True, random_state=None, verbose=0, warm_start=False)\n",
      "Score:  0.882833333333\n"
     ]
    },
    {
     "name": "stderr",
     "output_type": "stream",
     "text": [
      "C:\\Users\\Dell\\Anaconda3\\lib\\site-packages\\sklearn\\grid_search.py:438: ChangedBehaviorWarning: The long-standing behavior to use the estimator's score function in GridSearchCV.score has changed. The scoring parameter is now used.\n",
      "  ChangedBehaviorWarning)\n"
     ]
    }
   ],
   "source": [
    "tuned_parameters = {'n_estimators':[10,20,40,50],\n",
    "                   'max_depth':[20,50,100]}\n",
    "\n",
    "\n",
    "rf_model = RandomForestClassifier(n_jobs=-1,oob_score=True,class_weight='balanced')\n",
    "model = GridSearchCV(rf_model,tuned_parameters,\n",
    "                     scoring='accuracy',cv=3,n_jobs=-1)\n",
    "\n",
    "model.fit(x_1,y_1)\n",
    "\n",
    "print(model.best_estimator_)\n",
    "print(\"Score: \",model.score(x_test,y_test))"
   ]
  },
  {
   "cell_type": "code",
   "execution_count": 31,
   "metadata": {},
   "outputs": [
    {
     "data": {
      "image/png": "[encoded data removed]",
      "text/plain": [
       "<matplotlib.figure.Figure at 0x182764137f0>"
      ]
     },
     "metadata": {},
     "output_type": "display_data"
    }
   ],
   "source": [
    "best_rf_model = model.best_estimator_\n",
    "best_rf_model.fit(x_1,y_1)\n",
    "pred = best_rf_model.predict(x_test)\n",
    "confusionMatrix(y_test,pred)"
   ]
  },
  {
   "cell_type": "markdown",
   "metadata": {},
   "source": [
    "<h5>AUC</h5>"
   ]
  },
  {
   "cell_type": "code",
   "execution_count": 16,
   "metadata": {},
   "outputs": [
    {
     "name": "stdout",
     "output_type": "stream",
     "text": [
      "Area Under The Curve is :  0.50131996277\n"
     ]
    },
    {
     "data": {
      "image/png": "[encoded data removed]",
      "text/plain": [
       "<matplotlib.figure.Figure at 0x1827d488c88>"
      ]
     },
     "metadata": {},
     "output_type": "display_data"
    }
   ],
   "source": [
    "auc_roc(y_test,pred)"
   ]
  },
  {
   "cell_type": "markdown",
   "metadata": {},
   "source": [
    "## BOW RF"
   ]
  },
  {
   "cell_type": "code",
   "execution_count": 33,
   "metadata": {},
   "outputs": [],
   "source": [
    "# Total data frame\n",
    "\n",
    "x_1 = final_counts_train[0:50000]\n",
    "\n",
    "\n",
    "# this is only Score/rating  of data\n",
    "\n",
    "y_1 = convScores(train_data['Score'].get_values())[0:50000]\n",
    "\n",
    "x_test = final_counts_test[0:6000]\n",
    "y_test = convScores(test_data['Score'].get_values())[0:6000]\n",
    "\n",
    "#x_1, x_test, y_1, y_test = train_test_split(x,y, test_size=0.3, random_state=0)\n",
    "\n",
    "x_1 = convToNpArray(x_1)\n",
    "x_test = convToNpArray(x_test)\n",
    "y_1 = convToNpArray(y_1)\n",
    "y_test = convToNpArray(y_test)"
   ]
  },
  {
   "cell_type": "code",
   "execution_count": 34,
   "metadata": {},
   "outputs": [
    {
     "name": "stdout",
     "output_type": "stream",
     "text": [
      "RandomForestClassifier(bootstrap=True, class_weight='balanced',\n",
      "            criterion='gini', max_depth=50, max_features='auto',\n",
      "            max_leaf_nodes=None, min_impurity_split=1e-07,\n",
      "            min_samples_leaf=1, min_samples_split=2,\n",
      "            min_weight_fraction_leaf=0.0, n_estimators=50, n_jobs=-1,\n",
      "            oob_score=True, random_state=None, verbose=0, warm_start=False)\n",
      "Score:  0.974\n"
     ]
    },
    {
     "name": "stderr",
     "output_type": "stream",
     "text": [
      "C:\\Users\\Dell\\Anaconda3\\lib\\site-packages\\sklearn\\grid_search.py:438: ChangedBehaviorWarning: The long-standing behavior to use the estimator's score function in GridSearchCV.score has changed. The scoring parameter is now used.\n",
      "  ChangedBehaviorWarning)\n"
     ]
    }
   ],
   "source": [
    "tuned_parameters = {'n_estimators':[10,20,40,50],\n",
    "                   'max_depth':[20,50,100]}\n",
    "\n",
    "\n",
    "rf_model = RandomForestClassifier(n_jobs=-1,oob_score=True,class_weight='balanced')\n",
    "model = GridSearchCV(rf_model,tuned_parameters,\n",
    "                     scoring='accuracy',cv=3,n_jobs=-1)\n",
    "\n",
    "model.fit(x_1,y_1)\n",
    "\n",
    "print(model.best_estimator_)\n",
    "print(\"Score: \",model.score(x_test,y_test))"
   ]
  },
  {
   "cell_type": "code",
   "execution_count": 35,
   "metadata": {},
   "outputs": [
    {
     "data": {
      "image/png": "[encoded data removed]",
      "text/plain": [
       "<matplotlib.figure.Figure at 0x1827ae54ef0>"
      ]
     },
     "metadata": {},
     "output_type": "display_data"
    }
   ],
   "source": [
    "best_rf_model = model.best_estimator_\n",
    "best_rf_model.fit(x_1,y_1)\n",
    "pred = best_rf_model.predict(x_test)\n",
    "confusionMatrix(y_test,pred)"
   ]
  },
  {
   "cell_type": "markdown",
   "metadata": {},
   "source": [
    "<h5>AUC</h5>"
   ]
  },
  {
   "cell_type": "code",
   "execution_count": 21,
   "metadata": {},
   "outputs": [
    {
     "name": "stdout",
     "output_type": "stream",
     "text": [
      "Area Under The Curve is :  0.940581366171\n"
     ]
    },
    {
     "data": {
      "image/png": "[encoded data removed]",
      "text/plain": [
       "<matplotlib.figure.Figure at 0x1827acfd438>"
      ]
     },
     "metadata": {},
     "output_type": "display_data"
    }
   ],
   "source": [
    "auc_roc(y_test,pred)"
   ]
  },
  {
   "cell_type": "code",
   "execution_count": 37,
   "metadata": {},
   "outputs": [
    {
     "name": "stdout",
     "output_type": "stream",
     "text": [
      "These are the top 10 important Features Which are most widely used in Positive and Negative Reviews:\n",
      "\n",
      "\tPositive: \t\t\tNegative:\n",
      "\n",
      "\tgreat          \t\t\taa             \n",
      "\n",
      "\tlove           \t\t\taaa            \n",
      "\n",
      "\tdisappoint     \t\t\taaaa           \n",
      "\n",
      "\tbest           \t\t\taaaaa          \n",
      "\n",
      "\tdelici         \t\t\taaaaaaaaaaaaaa \n",
      "\n",
      "\twould          \t\t\taaaaaaaaaaaaaaaaaaaaaaaaaaaaaaaaaaaaaaaaaaaa\n",
      "\n",
      "\tperfect        \t\t\taaaaaaaaaaaaaaaaaaaargh\n",
      "\n",
      "\twast           \t\t\taaaaaaaaagghh  \n",
      "\n",
      "\tfavorit        \t\t\taaaaaaahhhhhh  \n",
      "\n",
      "\tworst          \t\t\taaaaaaarrrrrggghhh\n"
     ]
    }
   ],
   "source": [
    "show_most_informative_features(count_vect,best_rf_model,10)"
   ]
  },
  {
   "cell_type": "markdown",
   "metadata": {},
   "source": [
    "## TFIdf"
   ]
  },
  {
   "cell_type": "code",
   "execution_count": 22,
   "metadata": {},
   "outputs": [],
   "source": [
    "x_1 = final_tf_idf_train[0:10000]\n",
    "\n",
    "y_1 = convScores(train_data['Score'].get_values())[0:10000]\n",
    "\n",
    "x_test = final_tf_idf_test[0:3000]\n",
    "y_test = convScores(test_data['Score'].get_values())[0:3000]\n",
    "\n",
    "x_1 = convToNpArray(x_1)\n",
    "x_test = convToNpArray(x_test)\n",
    "y_1 = convToNpArray(y_1)\n",
    "y_test = convToNpArray(y_test)"
   ]
  },
  {
   "cell_type": "code",
   "execution_count": 23,
   "metadata": {},
   "outputs": [
    {
     "name": "stdout",
     "output_type": "stream",
     "text": [
      "RandomForestClassifier(bootstrap=True, class_weight='balanced',\n",
      "            criterion='gini', max_depth=50, max_features='auto',\n",
      "            max_leaf_nodes=None, min_impurity_split=1e-07,\n",
      "            min_samples_leaf=1, min_samples_split=2,\n",
      "            min_weight_fraction_leaf=0.0, n_estimators=50, n_jobs=-1,\n",
      "            oob_score=True, random_state=None, verbose=0, warm_start=False)\n"
     ]
    },
    {
     "name": "stderr",
     "output_type": "stream",
     "text": [
      "C:\\Users\\Dell\\Anaconda3\\lib\\site-packages\\sklearn\\grid_search.py:438: ChangedBehaviorWarning: The long-standing behavior to use the estimator's score function in GridSearchCV.score has changed. The scoring parameter is now used.\n",
      "  ChangedBehaviorWarning)\n"
     ]
    },
    {
     "name": "stdout",
     "output_type": "stream",
     "text": [
      "Score:  0.982\n"
     ]
    }
   ],
   "source": [
    "tuned_parameters = {'n_estimators':[10,20,40,50],\n",
    "                   'max_depth':[20,50,100]}\n",
    "\n",
    "\n",
    "rf_model = RandomForestClassifier(n_jobs=-1,oob_score=True,class_weight='balanced')\n",
    "model = GridSearchCV(rf_model,tuned_parameters,\n",
    "                     scoring='accuracy',cv=3,n_jobs=-1)\n",
    "\n",
    "model.fit(x_1,y_1)\n",
    "\n",
    "print(model.best_estimator_)\n",
    "print(\"Score: \",model.score(x_test,y_test))"
   ]
  },
  {
   "cell_type": "code",
   "execution_count": 24,
   "metadata": {},
   "outputs": [
    {
     "data": {
      "image/png": "[encoded data removed]",
      "text/plain": [
       "<matplotlib.figure.Figure at 0x1826b5fe2e8>"
      ]
     },
     "metadata": {},
     "output_type": "display_data"
    }
   ],
   "source": [
    "best_rf_model = model.best_estimator_\n",
    "best_rf_model.fit(x_1,y_1)\n",
    "pred = best_rf_model.predict(x_test)\n",
    "confusionMatrix(y_test,pred)"
   ]
  },
  {
   "cell_type": "code",
   "execution_count": 25,
   "metadata": {},
   "outputs": [
    {
     "name": "stdout",
     "output_type": "stream",
     "text": [
      "Area Under The Curve is :  0.914667289577\n"
     ]
    },
    {
     "data": {
      "image/png": "[encoded data removed]",
      "text/plain": [
       "<matplotlib.figure.Figure at 0x1827b8593c8>"
      ]
     },
     "metadata": {},
     "output_type": "display_data"
    }
   ],
   "source": [
    "auc_roc(y_test,pred)"
   ]
  },
  {
   "cell_type": "markdown",
   "metadata": {},
   "source": [
    "## Important Features"
   ]
  },
  {
   "cell_type": "code",
   "execution_count": 27,
   "metadata": {},
   "outputs": [
    {
     "name": "stdout",
     "output_type": "stream",
     "text": [
      "These are the top 10important Features Which are most widely used in Positive and Negative Reviews:\n",
      "\n",
      "\tPositive: \t\t\tNegative:\n",
      "\n",
      "\tmoney          \t\t\taa             \n",
      "\n",
      "\torder          \t\t\taa pleas       \n",
      "\n",
      "\treturn         \t\t\taa state       \n",
      "\n",
      "\tgreat          \t\t\taaa            \n",
      "\n",
      "\thorribl        \t\t\taaa aaa        \n",
      "\n",
      "\taway           \t\t\taaa condit     \n",
      "\n",
      "\tsnack          \t\t\taaa dont       \n",
      "\n",
      "\tlove           \t\t\taaa hockey     \n",
      "\n",
      "\thigh recommend \t\t\taaa job        \n",
      "\n",
      "\tbland          \t\t\taaa magazin    \n"
     ]
    }
   ],
   "source": [
    "show_most_informative_features(tf_idf_vect,best_rf_model,10)"
   ]
  },
  {
   "cell_type": "markdown",
   "metadata": {},
   "source": [
    "# GBDT"
   ]
  },
  {
   "cell_type": "markdown",
   "metadata": {},
   "source": [
    "## Avg W2V"
   ]
  },
  {
   "cell_type": "code",
   "execution_count": 48,
   "metadata": {},
   "outputs": [],
   "source": [
    "x_1 = sent_vectors_train[0:30000]\n",
    "\n",
    "\n",
    "# this is only Score/rating  of data\n",
    "\n",
    "y_1 = convScores(train_data['Score'].get_values())[0:30000]\n",
    "\n",
    "x_test = sent_vectors_test[0:6000]\n",
    "y_test = convScores(test_data['Score'].get_values())[0:6000]\n",
    "\n",
    "\n",
    "x_1 = convToNpArray(x_1)\n",
    "x_test = convToNpArray(x_test)\n",
    "y_1 = convToNpArray(y_1)\n",
    "y_test = convToNpArray(y_test)"
   ]
  },
  {
   "cell_type": "code",
   "execution_count": 49,
   "metadata": {},
   "outputs": [
    {
     "name": "stdout",
     "output_type": "stream",
     "text": [
      "GradientBoostingClassifier(criterion='friedman_mse', init=None,\n",
      "              learning_rate=0.1, loss='deviance', max_depth=7,\n",
      "              max_features=None, max_leaf_nodes=None,\n",
      "              min_impurity_split=1e-07, min_samples_leaf=1,\n",
      "              min_samples_split=2, min_weight_fraction_leaf=0.0,\n",
      "              n_estimators=100, presort='auto', random_state=None,\n",
      "              subsample=0.7, verbose=0, warm_start=False)\n",
      "Score:  0.887666666667\n"
     ]
    },
    {
     "name": "stderr",
     "output_type": "stream",
     "text": [
      "C:\\Users\\Dell\\Anaconda3\\lib\\site-packages\\sklearn\\grid_search.py:438: ChangedBehaviorWarning: The long-standing behavior to use the estimator's score function in GridSearchCV.score has changed. The scoring parameter is now used.\n",
      "  ChangedBehaviorWarning)\n"
     ]
    }
   ],
   "source": [
    "tuned_parameters = {'n_estimators':[50,75,100,125],\n",
    "                   'learning_rate':[0.01,0.1,0.5],\n",
    "                   'max_depth':[3,5,7]}\n",
    "\n",
    "\n",
    "#using 70% of data to train the base models (Row Sampling) \n",
    "gb_model = GradientBoostingClassifier(subsample=0.7)\n",
    "model = GridSearchCV(gb_model,tuned_parameters,\n",
    "                     scoring='accuracy',cv=3,n_jobs=-1)\n",
    "\n",
    "model.fit(x_1,y_1)\n",
    "\n",
    "print(model.best_estimator_)\n",
    "print(\"Score: \",model.score(x_test,y_test))"
   ]
  },
  {
   "cell_type": "code",
   "execution_count": 50,
   "metadata": {},
   "outputs": [
    {
     "data": {
      "image/png": "[encoded data removed]",
      "text/plain": [
       "<matplotlib.figure.Figure at 0x1822e0073c8>"
      ]
     },
     "metadata": {},
     "output_type": "display_data"
    }
   ],
   "source": [
    "best_gb_model = model.best_estimator_\n",
    "best_gb_model.fit(x_1,y_1)\n",
    "pred = best_gb_model.predict(x_test)\n",
    "confusionMatrix(y_test,pred)"
   ]
  },
  {
   "cell_type": "code",
   "execution_count": 51,
   "metadata": {},
   "outputs": [
    {
     "name": "stdout",
     "output_type": "stream",
     "text": [
      "Area Under The Curve is :  0.539169985391\n"
     ]
    },
    {
     "data": {
      "image/png": "[encoded data removed]",
      "text/plain": [
       "<matplotlib.figure.Figure at 0x1827b859f28>"
      ]
     },
     "metadata": {},
     "output_type": "display_data"
    }
   ],
   "source": [
    "auc_roc(y_test,pred)"
   ]
  },
  {
   "cell_type": "markdown",
   "metadata": {},
   "source": [
    "### Using XGBClassifier"
   ]
  },
  {
   "cell_type": "code",
   "execution_count": 54,
   "metadata": {},
   "outputs": [
    {
     "name": "stdout",
     "output_type": "stream",
     "text": [
      "XGBClassifier(base_score=0.5, booster='gbtree', colsample_bylevel=1,\n",
      "       colsample_bytree=1, gamma=0, learning_rate=0.1, max_delta_step=0,\n",
      "       max_depth=3, min_child_weight=1, missing=None, n_estimators=120,\n",
      "       n_jobs=4, nthread=None, objective='binary:logistic', random_state=0,\n",
      "       reg_alpha=0, reg_lambda=1, scale_pos_weight=1, seed=None,\n",
      "       silent=True, subsample=0.7)\n",
      "Score:  0.883333333333\n"
     ]
    },
    {
     "name": "stderr",
     "output_type": "stream",
     "text": [
      "C:\\Users\\Dell\\Anaconda3\\lib\\site-packages\\sklearn\\grid_search.py:438: ChangedBehaviorWarning: The long-standing behavior to use the estimator's score function in GridSearchCV.score has changed. The scoring parameter is now used.\n",
      "  ChangedBehaviorWarning)\n"
     ]
    }
   ],
   "source": [
    "tuned_parameters = {'n_estimators':[75,100,120],\n",
    "                   'learning_rate':[0.01,0.1,0.5]}\n",
    "\n",
    "\n",
    "#using 70% of data to train the base models (Row Sampling) \n",
    "gb_model = XGBClassifier(subsample=0.7,n_jobs=4)\n",
    "model = GridSearchCV(gb_model,tuned_parameters,\n",
    "                     scoring='accuracy',cv=3,n_jobs=-1)\n",
    "\n",
    "model.fit(x_1,y_1)\n",
    "\n",
    "print(model.best_estimator_)\n",
    "print(\"Score: \",model.score(x_test,y_test))"
   ]
  },
  {
   "cell_type": "code",
   "execution_count": 55,
   "metadata": {},
   "outputs": [
    {
     "data": {
      "image/png": "[encoded data removed]",
      "text/plain": [
       "<matplotlib.figure.Figure at 0x18271c57cc0>"
      ]
     },
     "metadata": {},
     "output_type": "display_data"
    }
   ],
   "source": [
    "best_gb_model = model.best_estimator_\n",
    "best_gb_model.fit(x_1,y_1)\n",
    "pred = best_gb_model.predict(x_test)\n",
    "confusionMatrix(y_test,pred)"
   ]
  },
  {
   "cell_type": "code",
   "execution_count": 56,
   "metadata": {},
   "outputs": [
    {
     "name": "stdout",
     "output_type": "stream",
     "text": [
      "Area Under The Curve is :  0.517818228073\n"
     ]
    },
    {
     "data": {
      "image/png": "[encoded data removed]",
      "text/plain": [
       "<matplotlib.figure.Figure at 0x18276406908>"
      ]
     },
     "metadata": {},
     "output_type": "display_data"
    }
   ],
   "source": [
    "auc_roc(y_test,pred)"
   ]
  },
  {
   "cell_type": "markdown",
   "metadata": {},
   "source": [
    "# BOW"
   ]
  },
  {
   "cell_type": "code",
   "execution_count": 38,
   "metadata": {},
   "outputs": [],
   "source": [
    "# Total data frame\n",
    "\n",
    "x_1 = final_counts_train[0:30000]\n",
    "\n",
    "\n",
    "# this is only Score/rating  of data\n",
    "\n",
    "y_1 = convScores(train_data['Score'].get_values())[0:30000]\n",
    "\n",
    "x_test = final_counts_test[0:6000]\n",
    "y_test = convScores(test_data['Score'].get_values())[0:6000]\n",
    "\n",
    "#x_1, x_test, y_1, y_test = train_test_split(x,y, test_size=0.3, random_state=0)\n",
    "\n",
    "x_1 = convToNpArray(x_1)\n",
    "x_test = convToNpArray(x_test)\n",
    "y_1 = convToNpArray(y_1)\n",
    "y_test = convToNpArray(y_test)"
   ]
  },
  {
   "cell_type": "code",
   "execution_count": 39,
   "metadata": {},
   "outputs": [
    {
     "name": "stdout",
     "output_type": "stream",
     "text": [
      "XGBClassifier(base_score=0.5, booster='gbtree', colsample_bylevel=1,\n",
      "       colsample_bytree=1, gamma=0, learning_rate=0.5, max_delta_step=0,\n",
      "       max_depth=3, min_child_weight=1, missing=None, n_estimators=120,\n",
      "       n_jobs=4, nthread=None, objective='binary:logistic', random_state=0,\n",
      "       reg_alpha=0, reg_lambda=1, scale_pos_weight=1, seed=None,\n",
      "       silent=True, subsample=0.7)\n",
      "Score:  0.9375\n"
     ]
    },
    {
     "name": "stderr",
     "output_type": "stream",
     "text": [
      "C:\\Users\\Dell\\Anaconda3\\lib\\site-packages\\sklearn\\grid_search.py:438: ChangedBehaviorWarning: The long-standing behavior to use the estimator's score function in GridSearchCV.score has changed. The scoring parameter is now used.\n",
      "  ChangedBehaviorWarning)\n"
     ]
    }
   ],
   "source": [
    "tuned_parameters = {'n_estimators':[75,100,120],\n",
    "                   'learning_rate':[0.01,0.1,0.5]}\n",
    "\n",
    "\n",
    "#using 70% of data to train the base models (Row Sampling) \n",
    "gb_model = XGBClassifier(subsample=0.7,n_jobs=4)\n",
    "model = GridSearchCV(gb_model,tuned_parameters,\n",
    "                     scoring='accuracy',cv=3,n_jobs=-1)\n",
    "\n",
    "model.fit(x_1,y_1)\n",
    "\n",
    "print(model.best_estimator_)\n",
    "print(\"Score: \",model.score(x_test,y_test))"
   ]
  },
  {
   "cell_type": "code",
   "execution_count": 40,
   "metadata": {},
   "outputs": [
    {
     "data": {
      "image/png": "[encoded data removed]",
      "text/plain": [
       "<matplotlib.figure.Figure at 0x18271c57b00>"
      ]
     },
     "metadata": {},
     "output_type": "display_data"
    }
   ],
   "source": [
    "best_gb_model = model.best_estimator_\n",
    "best_gb_model.fit(x_1,y_1)\n",
    "pred = best_gb_model.predict(x_test)\n",
    "confusionMatrix(y_test,pred)"
   ]
  },
  {
   "cell_type": "code",
   "execution_count": 41,
   "metadata": {},
   "outputs": [
    {
     "name": "stdout",
     "output_type": "stream",
     "text": [
      "Area Under The Curve is :  0.764206869258\n"
     ]
    },
    {
     "data": {
      "image/png": "[encoded data removed]",
      "text/plain": [
       "<matplotlib.figure.Figure at 0x1827fc2e978>"
      ]
     },
     "metadata": {},
     "output_type": "display_data"
    }
   ],
   "source": [
    "auc_roc(y_test,pred)"
   ]
  },
  {
   "cell_type": "markdown",
   "metadata": {},
   "source": [
    "## Important Features"
   ]
  },
  {
   "cell_type": "code",
   "execution_count": 42,
   "metadata": {},
   "outputs": [
    {
     "name": "stdout",
     "output_type": "stream",
     "text": [
      "These are the top 10 important Features Which are most widely used in Positive and Negative Reviews:\n",
      "\n",
      "\tPositive: \t\t\tNegative:\n",
      "\n",
      "\tlike           \t\t\taa             \n",
      "\n",
      "\tgreat          \t\t\taaa            \n",
      "\n",
      "\ttast           \t\t\taaaa           \n",
      "\n",
      "\tproduct        \t\t\taaaaa          \n",
      "\n",
      "\tlove           \t\t\taaaaaaaaaaaaaa \n",
      "\n",
      "\tbest           \t\t\taaaaaaaaaaaaaaaaaaaaaaaaaaaaaaaaaaaaaaaaaaaa\n",
      "\n",
      "\ttri            \t\t\taaaaaaaaaaaaaaaaaaaargh\n",
      "\n",
      "\tlittl          \t\t\taaaaaaaaagghh  \n",
      "\n",
      "\tgood           \t\t\taaaaaaahhhhhh  \n",
      "\n",
      "\tflavor         \t\t\taaaaaaarrrrrggghhh\n"
     ]
    }
   ],
   "source": [
    "show_most_informative_features(count_vect,best_gb_model,10)"
   ]
  },
  {
   "cell_type": "markdown",
   "metadata": {},
   "source": [
    "## TFIdf"
   ]
  },
  {
   "cell_type": "code",
   "execution_count": 43,
   "metadata": {},
   "outputs": [],
   "source": [
    "x_1 = final_tf_idf_train[0:10000]\n",
    "\n",
    "y_1 = convScores(train_data['Score'].get_values())[0:10000]\n",
    "\n",
    "x_test = final_tf_idf_test[0:3000]\n",
    "y_test = convScores(test_data['Score'].get_values())[0:3000]\n",
    "\n",
    "x_1 = convToNpArray(x_1)\n",
    "x_test = convToNpArray(x_test)\n",
    "y_1 = convToNpArray(y_1)\n",
    "y_test = convToNpArray(y_test)"
   ]
  },
  {
   "cell_type": "code",
   "execution_count": 44,
   "metadata": {},
   "outputs": [
    {
     "name": "stdout",
     "output_type": "stream",
     "text": [
      "XGBClassifier(base_score=0.5, booster='gbtree', colsample_bylevel=1,\n",
      "       colsample_bytree=1, gamma=0, learning_rate=0.5, max_delta_step=0,\n",
      "       max_depth=3, min_child_weight=1, missing=None, n_estimators=120,\n",
      "       n_jobs=4, nthread=None, objective='binary:logistic', random_state=0,\n",
      "       reg_alpha=0, reg_lambda=1, scale_pos_weight=1, seed=None,\n",
      "       silent=True, subsample=0.7)\n"
     ]
    },
    {
     "name": "stderr",
     "output_type": "stream",
     "text": [
      "C:\\Users\\Dell\\Anaconda3\\lib\\site-packages\\sklearn\\grid_search.py:438: ChangedBehaviorWarning: The long-standing behavior to use the estimator's score function in GridSearchCV.score has changed. The scoring parameter is now used.\n",
      "  ChangedBehaviorWarning)\n"
     ]
    },
    {
     "name": "stdout",
     "output_type": "stream",
     "text": [
      "Score:  0.961666666667\n"
     ]
    }
   ],
   "source": [
    "tuned_parameters = {'n_estimators':[75,100,120],\n",
    "                   'learning_rate':[0.01,0.1,0.5]}\n",
    "\n",
    "\n",
    "#using 70% of data to train the base models (Row Sampling) \n",
    "gb_model = XGBClassifier(subsample=0.7,n_jobs=4)\n",
    "model = GridSearchCV(gb_model,tuned_parameters,\n",
    "                     scoring='accuracy',cv=3,n_jobs=-1)\n",
    "\n",
    "model.fit(x_1,y_1)\n",
    "\n",
    "print(model.best_estimator_)\n",
    "print(\"Score: \",model.score(x_test,y_test))"
   ]
  },
  {
   "cell_type": "code",
   "execution_count": 45,
   "metadata": {},
   "outputs": [
    {
     "data": {
      "image/png": "[encoded data removed]",
      "text/plain": [
       "<matplotlib.figure.Figure at 0x18209883b70>"
      ]
     },
     "metadata": {},
     "output_type": "display_data"
    }
   ],
   "source": [
    "best_gb_model = model.best_estimator_\n",
    "best_gb_model.fit(x_1,y_1)\n",
    "pred = best_gb_model.predict(x_test)\n",
    "confusionMatrix(y_test,pred)"
   ]
  },
  {
   "cell_type": "code",
   "execution_count": 46,
   "metadata": {},
   "outputs": [
    {
     "name": "stdout",
     "output_type": "stream",
     "text": [
      "Area Under The Curve is :  0.847486197897\n"
     ]
    },
    {
     "data": {
      "image/png": "[encoded data removed]",
      "text/plain": [
       "<matplotlib.figure.Figure at 0x182714dfba8>"
      ]
     },
     "metadata": {},
     "output_type": "display_data"
    }
   ],
   "source": [
    "auc_roc(y_test,pred)"
   ]
  },
  {
   "cell_type": "markdown",
   "metadata": {},
   "source": [
    "## Important Features"
   ]
  },
  {
   "cell_type": "code",
   "execution_count": 47,
   "metadata": {},
   "outputs": [
    {
     "name": "stdout",
     "output_type": "stream",
     "text": [
      "These are the top 10 important Features Which are most widely used in Positive and Negative Reviews:\n",
      "\n",
      "\tPositive: \t\t\tNegative:\n",
      "\n",
      "\tgood           \t\t\taa             \n",
      "\n",
      "\tlike           \t\t\taa pleas       \n",
      "\n",
      "\tone            \t\t\taa state       \n",
      "\n",
      "\ttast           \t\t\taaa            \n",
      "\n",
      "\ttri            \t\t\taaa aaa        \n",
      "\n",
      "\tproduct        \t\t\taaa condit     \n",
      "\n",
      "\tget            \t\t\taaa dont       \n",
      "\n",
      "\tuse            \t\t\taaa hockey     \n",
      "\n",
      "\tlove           \t\t\taaa job        \n",
      "\n",
      "\tgreat          \t\t\taaa magazin    \n"
     ]
    }
   ],
   "source": [
    "show_most_informative_features(tf_idf_vect,best_gb_model,10)"
   ]
  },
  {
   "cell_type": "markdown",
   "metadata": {},
   "source": [
    "#### Summary:<br>\n",
    "\n",
    "<table>\n",
    "    <tr>\n",
    "        <th>Classifier</th>\n",
    "        <th>Vectorizer</th>\n",
    "        <th>Hyper Parameters</th>\n",
    "        <th>Confusion Matrix</th>\n",
    "        <th>Accuracy</th>\n",
    "        <th>AUC</th>\n",
    "    </tr>\n",
    "    <tr>\n",
    "        <td>Random Forest</td>\n",
    "        <td>Avg W2v</td>\n",
    "        <td>\n",
    "            n_estimators: 40<br>\n",
    "            max_depth: 20\n",
    "        </td>\n",
    "        <td>\n",
    "            TPR :0.999622 \t TNR : 0.004243<br>\n",
    "            FPR : 0.995757 \t FNR: 0.000378\n",
    "        </td>\n",
    "        <td>88%<br></td>\n",
    "        <td>0.5</td>\n",
    "       \n",
    "    </tr>\n",
    "    <tr>\n",
    "        <td>Random Forest</td>\n",
    "        <td>BOW</td>\n",
    "        <td>n_estimators: 40<br>\n",
    "            max_depth: 50</td>\n",
    "            \n",
    "        <td>\n",
    "            TPR :0.983374 \t TNR : 0.903819<br>\n",
    "            FPR : 0.096181 \t FNR: 0.016626\n",
    "        </td>    \n",
    "        <td>97.5%</td>\n",
    "        <td>0.94</td>\n",
    "        \n",
    "    </tr>\n",
    "    <tr>\n",
    "        <td>Random Forest</td>\n",
    "        <td>TfIdf</td>\n",
    "        <td>n_estimators: 50<br>\n",
    "            max_depth: 50</td>\n",
    "        <td>\n",
    "            TPR :0.999625 \t TNR : 0.847305<br>\n",
    "            FPR : 0.152695 \t FNR: 0.000375\n",
    "        </td>\n",
    "        <td>97.9%</td>\n",
    "        <td>0.91</td>\n",
    "    </tr>\n",
    "    <tr>\n",
    "        <td>Gradient Boost / XGBClassifier</td>\n",
    "        <td>Avg W2v</td>\n",
    "        <td>\n",
    "            n_estimators: 100<br>\n",
    "            learning_rate: 0.1<br>\n",
    "            max_depth: 7<br>\n",
    "            \n",
    "            <b>Using XGBClassifier</b><br>\n",
    "            n_estimators: 120<br>\n",
    "            learning_rate: 0.1\n",
    "        </td>\n",
    "        <td>\n",
    "            TPR :0.983374 \t TNR : 0.128713<br>\n",
    "            FPR : 0.871287 \t FNR: 0.016626\n",
    "        </td>\n",
    "        <td>88.33%</td>\n",
    "        <td>0.54</td>\n",
    "       \n",
    "    </tr>\n",
    "    <tr>\n",
    "        <td>Gradient Boost / XGBClassifier</td>\n",
    "        <td>BOW</td>\n",
    "        <td>n_estimators: 120<br>\n",
    "            learning_rate: 0.5</td>\n",
    "        <td>\n",
    "            TPR :0.990931 \t TNR : 0.537482<br>\n",
    "            FPR : 0.462518 \t FNR: 0.009069\n",
    "        </td>\n",
    "        <td>93.75%</td>\n",
    "        <td>0.76</td>\n",
    "    </tr>\n",
    "    <tr>\n",
    "        <td>Gradient Boost / XGBClassifier</td>\n",
    "        <td>TfIdf</td>\n",
    "        <td>n_estimators: 120<br>\n",
    "            learning_rate: 0.5<br></td>\n",
    "        <td>\n",
    "            TPR :0.994374 \t TNR : 0.700599<br>\n",
    "            FPR : 0.299401 \t FNR: 0.005626\n",
    "        </td>\n",
    "        <td>96.2%</td>\n",
    "        <td>0.85</td>\n",
    "    </tr>\n",
    "</table>\n",
    "\n",
    "\n",
    "\n",
    "-> With Both the classifiers BOW and Tfidf have given Good Results in terms of TPR TNR and Accuracy.<br>\n",
    "-> Even Interms of AUC also BOW and Tfidf Have performed well.<br>\n",
    "-> Interms of AUC Random Forest has Performed well when compared to Gradient Boost.<br>\n",
    "\n",
    "Note: <br>\n",
    "-> Didnt use Sklearn's GradientBoost Classifier for Tfidf and BOW because fit() method is expecting dense array, as there is large amount of data with more no.of dimensions it requires more Memory, So used XGBClassifier().<br>\n",
    "\n",
    "-> XGBClassifier took very Less time to execute when compared to GradientBoostingClassifier() because XGBClassifier supports Parallel Execution. "
   ]
  },
  {
   "cell_type": "code",
   "execution_count": null,
   "metadata": {},
   "outputs": [],
   "source": []
  }
 ],
 "metadata": {
  "kernelspec": {
   "display_name": "Python 3",
   "language": "python",
   "name": "python3"
  },
  "language_info": {
   "codemirror_mode": {
    "name": "ipython",
    "version": 3
   },
   "file_extension": ".py",
   "mimetype": "text/x-python",
   "name": "python",
   "nbconvert_exporter": "python",
   "pygments_lexer": "ipython3",
   "version": "3.6.4"
  }
 },
 "nbformat": 4,
 "nbformat_minor": 2
}
