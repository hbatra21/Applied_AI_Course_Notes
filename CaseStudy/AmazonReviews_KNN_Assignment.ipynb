{
 "cells": [
  {
   "cell_type": "markdown",
   "metadata": {},
   "source": [
    "# AmazonReviews KNN Assignment"
   ]
  },
  {
   "cell_type": "code",
   "execution_count": 1,
   "metadata": {},
   "outputs": [
    {
     "name": "stderr",
     "output_type": "stream",
     "text": [
      "C:\\Users\\Dell\\Anaconda3\\lib\\site-packages\\sklearn\\cross_validation.py:41: DeprecationWarning: This module was deprecated in version 0.18 in favor of the model_selection module into which all the refactored classes and functions are moved. Also note that the interface of the new CV iterators are different from that of this module. This module will be removed in 0.20.\n",
      "  \"This module will be removed in 0.20.\", DeprecationWarning)\n"
     ]
    }
   ],
   "source": [
    "%matplotlib inline\n",
    "\n",
    "import sqlite3\n",
    "import pandas as pd #for data frames\n",
    "import numpy as np #numpy array operations\n",
    "import nltk #natural lang processing, for processing text\n",
    "import string\n",
    "import matplotlib.pyplot as plt\n",
    "import seaborn as sns #for plotting\n",
    "from sklearn.feature_extraction.text import TfidfTransformer\n",
    "from sklearn.feature_extraction.text import TfidfVectorizer\n",
    "from sklearn.feature_extraction.text import CountVectorizer\n",
    "from sklearn.metrics import roc_curve, auc\n",
    "from nltk.stem.porter import PorterStemmer\n",
    "import pickle\n",
    "import seaborn as sn\n",
    "\n",
    "import matplotlib.pyplot as plt\n",
    "from sklearn.cross_validation import train_test_split\n",
    "from sklearn.neighbors import KNeighborsClassifier\n",
    "from sklearn.metrics import accuracy_score\n",
    "from sklearn.cross_validation import cross_val_score\n",
    "from collections import Counter\n",
    "from sklearn.metrics import accuracy_score\n",
    "from sklearn import cross_validation\n"
   ]
  },
  {
   "cell_type": "code",
   "execution_count": 2,
   "metadata": {},
   "outputs": [],
   "source": [
    "pickle_in=open(\"cleanedData.pickle\",\"rb\")\n",
    "final = pickle.load(pickle_in)"
   ]
  },
  {
   "cell_type": "code",
   "execution_count": 3,
   "metadata": {},
   "outputs": [
    {
     "name": "stderr",
     "output_type": "stream",
     "text": [
      "C:\\Users\\Dell\\Anaconda3\\lib\\site-packages\\gensim\\utils.py:1197: UserWarning: detected Windows; aliasing chunkize to chunkize_serial\n",
      "  warnings.warn(\"detected Windows; aliasing chunkize to chunkize_serial\")\n"
     ]
    }
   ],
   "source": [
    "pickle_in = open(\"BOW_tfidf_avgW2V_TfidfW2V.pickle\",\"rb\")\n",
    "count_vect = pickle.load(pickle_in) #BOW\n",
    "final_counts = pickle.load(pickle_in) #BOW\n",
    "\n",
    "tf_idf_vect = pickle.load(pickle_in) #TFIDF\n",
    "final_tf_idf = pickle.load(pickle_in) #TFIDF\n",
    "features = pickle.load(pickle_in) #TFIDF\n",
    "\n",
    "w2v_model = pickle.load(pickle_in) #w2v\n",
    "words = pickle.load(pickle_in) #w2v\n",
    "\n",
    "sent_vectors = pickle.load(pickle_in) #avg W2V"
   ]
  },
  {
   "cell_type": "code",
   "execution_count": 4,
   "metadata": {},
   "outputs": [],
   "source": [
    "# Weighted TF_IDF W2V\n",
    "pickle_in =open(\"WiightedTfidfW2V.pickle\",\"rb\")\n",
    "tfidf_sent_vectors = pickle.load(pickle_in)"
   ]
  },
  {
   "cell_type": "code",
   "execution_count": 5,
   "metadata": {},
   "outputs": [
    {
     "data": {
      "text/plain": [
       "(364171, 11)"
      ]
     },
     "execution_count": 5,
     "metadata": {},
     "output_type": "execute_result"
    }
   ],
   "source": [
    "final.shape"
   ]
  },
  {
   "cell_type": "code",
   "execution_count": 6,
   "metadata": {},
   "outputs": [
    {
     "data": {
      "text/plain": [
       "(364171, 115281)"
      ]
     },
     "execution_count": 6,
     "metadata": {},
     "output_type": "execute_result"
    }
   ],
   "source": [
    "final_counts.shape"
   ]
  },
  {
   "cell_type": "code",
   "execution_count": 7,
   "metadata": {},
   "outputs": [
    {
     "data": {
      "text/plain": [
       "364171"
      ]
     },
     "execution_count": 7,
     "metadata": {},
     "output_type": "execute_result"
    }
   ],
   "source": [
    "scores = final['Score'].get_values()\n",
    "len(scores)"
   ]
  },
  {
   "cell_type": "code",
   "execution_count": 8,
   "metadata": {},
   "outputs": [],
   "source": [
    "li = lambda x: 1 if x=='positive'  else 0\n",
    "final_scores = []\n",
    "for i in range(0,364171):\n",
    "    final_scores.append(li(scores[i]))"
   ]
  },
  {
   "cell_type": "markdown",
   "metadata": {},
   "source": [
    "## k-fold Cross Validation Using Time Based Split"
   ]
  },
  {
   "cell_type": "code",
   "execution_count": 57,
   "metadata": {},
   "outputs": [],
   "source": [
    "from sklearn.model_selection import TimeSeriesSplit\n",
    "\n",
    "def k_fold_cross_validation(x_1,y_1):\n",
    "    li = list(range(0,16))\n",
    "    \n",
    "    #creating odd list of vals for 'k'\n",
    "    neighbors = list(filter(lambda x: x%2 != 0,li))\n",
    "\n",
    "    #empty list to hold CV scores/accuracy\n",
    "    cv_scores = []\n",
    "\n",
    "    \n",
    "    #performing k-fold cross validation with Times Based Split\n",
    "    for k in neighbors:\n",
    "        knn = KNeighborsClassifier(n_neighbors=k,algorithm='auto',n_jobs=-1)\n",
    "        tscv = TimeSeriesSplit(n_splits=5)\n",
    "        acc_sum=0\n",
    "        cnt=0\n",
    "        for train_index, test_index in tscv.split(x_1):\n",
    "            X_train, X_test = x_1[train_index], x_1[test_index]\n",
    "            Y_train, Y_test = y_1[train_index], y_1[test_index]\n",
    "            knn.fit(X_train,Y_train)\n",
    "            pred = knn.predict(X_test)\n",
    "            acc = accuracy_score(Y_test, pred, normalize=True )*float(100)\n",
    "            acc_sum=acc_sum+acc\n",
    "            cnt=cnt+1\n",
    "        cv_scores.append(acc_sum/cnt)\n",
    "            \n",
    "            \n",
    "   \n",
    "    # determining best k\n",
    "    optimal_k = neighbors[cv_scores.index(max(cv_scores))]\n",
    "    print('\\nThe optimal number of neighbors is %d.' % optimal_k)\n",
    "\n",
    "    # plot misclassification error vs k \n",
    "    plt.plot(neighbors, cv_scores)\n",
    "\n",
    "    for xy in zip(neighbors, np.round(cv_scores,3)):\n",
    "        plt.annotate('(%s, %s)' % xy, xy=xy, textcoords='data')\n",
    "\n",
    "    plt.xlabel('Number of Neighbors K')\n",
    "    plt.ylabel('Accuracy Percentage')\n",
    "    plt.show()\n",
    "\n",
    "    print(\"the Accuracy for each k value is : \", np.round(cv_scores,3))\n",
    "    print('*********************************************************************')\n",
    "    print(\"optimal k value is: \",optimal_k)\n",
    "    return optimal_k;"
   ]
  },
  {
   "cell_type": "markdown",
   "metadata": {},
   "source": [
    "# BOW K-Fold CV"
   ]
  },
  {
   "cell_type": "code",
   "execution_count": 58,
   "metadata": {},
   "outputs": [
    {
     "data": {
      "text/plain": [
       "(364171, 115281)"
      ]
     },
     "execution_count": 58,
     "metadata": {},
     "output_type": "execute_result"
    }
   ],
   "source": [
    "final_counts.shape"
   ]
  },
  {
   "cell_type": "code",
   "execution_count": 76,
   "metadata": {},
   "outputs": [],
   "source": [
    "\n",
    "# Total data frame\n",
    "\n",
    "x = final_counts[0:10000]\n",
    "\n",
    "\n",
    "# this is only Score/rating  of data\n",
    "\n",
    "y = final_scores[0:10000]"
   ]
  },
  {
   "cell_type": "code",
   "execution_count": 77,
   "metadata": {},
   "outputs": [],
   "source": [
    "#splitting the train and test data\n",
    "\n",
    "x_1, x_test, y_1, y_test = cross_validation.train_test_split(x,y, test_size=0.3, random_state=0)\n"
   ]
  },
  {
   "cell_type": "code",
   "execution_count": 78,
   "metadata": {},
   "outputs": [
    {
     "data": {
      "text/plain": [
       "<7000x115281 sparse matrix of type '<class 'numpy.int64'>'\n",
       "\twith 365189 stored elements in Compressed Sparse Row format>"
      ]
     },
     "execution_count": 78,
     "metadata": {},
     "output_type": "execute_result"
    }
   ],
   "source": [
    "#x_1 = np.array(x_1)\n",
    "\n",
    "y_1 = np.array(y_1)\n",
    "\n",
    "#x_test = np.array(x_test)\n",
    "\n",
    "y_test = np.array(y_test)\n",
    "\n",
    "x_1"
   ]
  },
  {
   "cell_type": "code",
   "execution_count": 79,
   "metadata": {},
   "outputs": [
    {
     "name": "stdout",
     "output_type": "stream",
     "text": [
      "\n",
      "The optimal number of neighbors is 7.\n"
     ]
    },
    {
     "data": {
      "image/png": "[encoded data removed]",
      "text/plain": [
       "<matplotlib.figure.Figure at 0x200109536a0>"
      ]
     },
     "metadata": {},
     "output_type": "display_data"
    },
    {
     "name": "stdout",
     "output_type": "stream",
     "text": [
      "the Accuracy for each k value is :  [80.343 87.993 89.022 89.314 89.177 89.297 89.297 89.297]\n",
      "*********************************************************************\n",
      "optimal k value is:  7\n"
     ]
    }
   ],
   "source": [
    "optim_k_val = k_fold_cross_validation(x_1,y_1)"
   ]
  },
  {
   "cell_type": "code",
   "execution_count": 80,
   "metadata": {},
   "outputs": [
    {
     "name": "stdout",
     "output_type": "stream",
     "text": [
      "\n",
      "The accuracy of the knn classifier for k = 7 is 88.233333%\n"
     ]
    }
   ],
   "source": [
    "knn_optimal = KNeighborsClassifier(n_neighbors=optim_k_val)\n",
    "\n",
    "# fitting the model\n",
    "knn_optimal.fit(x_1, y_1)\n",
    "\n",
    "# predict the response\n",
    "pred = knn_optimal.predict(x_test)\n",
    "\n",
    "# evaluate accuracy\n",
    "acc = accuracy_score(y_test, pred) * 100\n",
    "print('\\nThe accuracy of the knn classifier for k = %d is %f%%' % (optim_k_val, acc))"
   ]
  },
  {
   "cell_type": "markdown",
   "metadata": {},
   "source": [
    "# TF_IDF K-fold CV"
   ]
  },
  {
   "cell_type": "code",
   "execution_count": 81,
   "metadata": {},
   "outputs": [
    {
     "data": {
      "text/plain": [
       "(364171, 2910192)"
      ]
     },
     "execution_count": 81,
     "metadata": {},
     "output_type": "execute_result"
    }
   ],
   "source": [
    "final_tf_idf.shape"
   ]
  },
  {
   "cell_type": "code",
   "execution_count": 85,
   "metadata": {},
   "outputs": [],
   "source": [
    "\n",
    "# Total data frame\n",
    "x = final_tf_idf[0:10000]\n",
    "\n",
    "# this is only Score/rating  of data\n",
    "y = final_scores[0:10000]\n"
   ]
  },
  {
   "cell_type": "code",
   "execution_count": 86,
   "metadata": {},
   "outputs": [],
   "source": [
    "#splitting the train and test data\n",
    "\n",
    "x_1, x_test, y_1, y_test = cross_validation.train_test_split(x,y, test_size=0.3, random_state=0)\n",
    "\n",
    "y_1 = np.array(y_1)\n",
    "y_test = np.array(y_test)\n"
   ]
  },
  {
   "cell_type": "code",
   "execution_count": 87,
   "metadata": {},
   "outputs": [
    {
     "name": "stdout",
     "output_type": "stream",
     "text": [
      "\n",
      "The optimal number of neighbors is 7.\n"
     ]
    },
    {
     "data": {
      "image/png": "[encoded data removed]",
      "text/plain": [
       "<matplotlib.figure.Figure at 0x2000fe44400>"
      ]
     },
     "metadata": {},
     "output_type": "display_data"
    },
    {
     "name": "stdout",
     "output_type": "stream",
     "text": [
      "the Accuracy for each k value is :  [85.832 89.503 89.605 89.777 89.623 89.64  89.605 89.503]\n",
      "*********************************************************************\n",
      "optimal k value is:  7\n"
     ]
    }
   ],
   "source": [
    "opt_val = k_fold_cross_validation(x_1,y_1)"
   ]
  },
  {
   "cell_type": "code",
   "execution_count": 88,
   "metadata": {},
   "outputs": [
    {
     "name": "stdout",
     "output_type": "stream",
     "text": [
      "\n",
      "The accuracy of the knn classifier for k = 7 is 88.766667%\n"
     ]
    }
   ],
   "source": [
    "knn_optimal = KNeighborsClassifier(n_neighbors=opt_val)\n",
    "\n",
    "# fitting the model\n",
    "knn_optimal.fit(x_1, y_1)\n",
    "\n",
    "# predict the response\n",
    "pred = knn_optimal.predict(x_test)\n",
    "\n",
    "# evaluate accuracy\n",
    "acc = accuracy_score(y_test, pred) * 100\n",
    "print('\\nThe accuracy of the knn classifier for k = %d is %f%%' % (opt_val, acc))"
   ]
  },
  {
   "cell_type": "markdown",
   "metadata": {},
   "source": [
    "# W2V K-Fold CV"
   ]
  },
  {
   "cell_type": "code",
   "execution_count": 17,
   "metadata": {},
   "outputs": [],
   "source": [
    "# Total data frame\n",
    "x = sent_vectors[0:50000]\n",
    "\n",
    "# this is only Score/rating  of data\n",
    "y = final_scores[0:50000]\n"
   ]
  },
  {
   "cell_type": "code",
   "execution_count": 18,
   "metadata": {},
   "outputs": [],
   "source": [
    "#splitting the train and test data\n",
    "\n",
    "x_1, x_test, y_1, y_test = cross_validation.train_test_split(x,y, test_size=0.2, random_state=0)\n",
    "\n",
    "y_1 = np.array(y_1)\n",
    "y_test = np.array(y_test)\n",
    "\n",
    "x_1 = np.array(x_1)\n",
    "x_test = np.array(x_test)"
   ]
  },
  {
   "cell_type": "code",
   "execution_count": 19,
   "metadata": {},
   "outputs": [
    {
     "name": "stdout",
     "output_type": "stream",
     "text": [
      "\n",
      "The optimal number of neighbors is 15.\n"
     ]
    },
    {
     "data": {
      "image/png": "[encoded data removed]",
      "text/plain": [
       "<matplotlib.figure.Figure at 0x200548b5278>"
      ]
     },
     "metadata": {},
     "output_type": "display_data"
    },
    {
     "name": "stdout",
     "output_type": "stream",
     "text": [
      "the Accuracy for each k value is :  [80.297 86.106 87.888 88.431 88.614 88.665 88.704 88.719 88.719 88.719\n",
      " 88.719 88.719 88.719]\n",
      "*********************************************************************\n",
      "optimal k value is:  15\n"
     ]
    }
   ],
   "source": [
    "opt_val = k_fold_cross_validation(x_1,y_1)"
   ]
  },
  {
   "cell_type": "code",
   "execution_count": 20,
   "metadata": {},
   "outputs": [
    {
     "name": "stdout",
     "output_type": "stream",
     "text": [
      "\n",
      "The accuracy of the knn classifier for k = 15 is 88.700000%\n"
     ]
    }
   ],
   "source": [
    "knn_optimal = KNeighborsClassifier(n_neighbors=opt_val)\n",
    "\n",
    "# fitting the model\n",
    "knn_optimal.fit(x_1, y_1)\n",
    "\n",
    "prediction = knn_optimal.predict(x_test)\n",
    "\n",
    "acc = accuracy_score(y_test, prediction) * 100\n",
    "\n",
    "print('\\nThe accuracy of the knn classifier for k = %d is %f%%' % (opt_val, acc))"
   ]
  },
  {
   "cell_type": "markdown",
   "metadata": {},
   "source": [
    "# Weighted TF-IDF W2V K-Fold CV"
   ]
  },
  {
   "cell_type": "code",
   "execution_count": 89,
   "metadata": {},
   "outputs": [
    {
     "data": {
      "text/plain": [
       "1000"
      ]
     },
     "execution_count": 89,
     "metadata": {},
     "output_type": "execute_result"
    }
   ],
   "source": [
    "len(tfidf_sent_vectors)"
   ]
  },
  {
   "cell_type": "code",
   "execution_count": 94,
   "metadata": {},
   "outputs": [],
   "source": [
    "x = tfidf_sent_vectors[0:300]\n",
    "\n",
    "y = final_scores[0:300] "
   ]
  },
  {
   "cell_type": "code",
   "execution_count": 95,
   "metadata": {},
   "outputs": [],
   "source": [
    "x_1, x_test, y_1, y_test = cross_validation.train_test_split(x,y, test_size=0.3, random_state = 0)\n",
    "\n",
    "\n",
    "y_1 = np.array(y_1)\n",
    "y_test = np.array(y_test)\n",
    "\n",
    "x_1 = np.array(x_1)\n",
    "x_test = np.array(x_test)"
   ]
  },
  {
   "cell_type": "code",
   "execution_count": 96,
   "metadata": {},
   "outputs": [
    {
     "data": {
      "text/plain": [
       "90"
      ]
     },
     "execution_count": 96,
     "metadata": {},
     "output_type": "execute_result"
    }
   ],
   "source": [
    "len(y_test)"
   ]
  },
  {
   "cell_type": "code",
   "execution_count": 97,
   "metadata": {},
   "outputs": [
    {
     "name": "stdout",
     "output_type": "stream",
     "text": [
      "\n",
      "The optimal number of neighbors is 5.\n"
     ]
    },
    {
     "data": {
      "image/png": "[encoded data removed]",
      "text/plain": [
       "<matplotlib.figure.Figure at 0x20019701630>"
      ]
     },
     "metadata": {},
     "output_type": "display_data"
    },
    {
     "name": "stdout",
     "output_type": "stream",
     "text": [
      "the Accuracy for each k value is :  [82.286 89.143 92.    92.    92.    92.    92.    92.   ]\n",
      "*********************************************************************\n",
      "optimal k value is:  5\n"
     ]
    }
   ],
   "source": [
    "opt_val = k_fold_cross_validation(x_1,y_1)"
   ]
  },
  {
   "cell_type": "code",
   "execution_count": 98,
   "metadata": {},
   "outputs": [
    {
     "name": "stdout",
     "output_type": "stream",
     "text": [
      "\n",
      "The accuracy of the knn classifier for k = 5 is 97.777778%\n"
     ]
    }
   ],
   "source": [
    "knn_optimal = KNeighborsClassifier(n_neighbors=3)\n",
    "\n",
    "knn_optimal.fit(x_1,y_1)\n",
    "\n",
    "pred = knn_optimal.predict(x_test)\n",
    "\n",
    "acc = accuracy_score(y_test,pred) * 100\n",
    "\n",
    "print('\\nThe accuracy of the knn classifier for k = %d is %f%%' % (opt_val, acc))"
   ]
  },
  {
   "cell_type": "markdown",
   "metadata": {},
   "source": [
    "# Summary:<br>\n",
    "After performing K-Fold Cross Validation here are the results of diff techniques:<br>\n",
    "\n",
    "1) BOW -> k = 7 acc= 88.23% <br>\n",
    "2) TF-IDF -> k = 7 acc = 88.7% <br>\n",
    "3) W2V -> k = 15 acc = 88.7%<br>\n",
    "4) Weighted TF-IDF W2V -> k = 5 acc = 97.7%(due to memory overflow used less datapoints)"
   ]
  },
  {
   "cell_type": "code",
   "execution_count": null,
   "metadata": {},
   "outputs": [],
   "source": []
  }
 ],
 "metadata": {
  "kernelspec": {
   "display_name": "Python 3",
   "language": "python",
   "name": "python3"
  },
  "language_info": {
   "codemirror_mode": {
    "name": "ipython",
    "version": 3
   },
   "file_extension": ".py",
   "mimetype": "text/x-python",
   "name": "python",
   "nbconvert_exporter": "python",
   "pygments_lexer": "ipython3",
   "version": "3.6.4"
  }
 },
 "nbformat": 4,
 "nbformat_minor": 2
}
