1st
https://github.com/UdiBhaskar/Quora-Question-pair-similarity
2nd
https://github.com/ajaysh2193/Stackoverflow-Tag-Predictor
3rd
https://github.com/vaquarkhan/Applied-AI-Course
