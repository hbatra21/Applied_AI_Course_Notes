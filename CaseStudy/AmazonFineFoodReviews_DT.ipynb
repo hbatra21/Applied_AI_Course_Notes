{
 "cells": [
  {
   "cell_type": "markdown",
   "metadata": {},
   "source": [
    "# Decision Tree Amazon Fine Food Reviews"
   ]
  },
  {
   "cell_type": "code",
   "execution_count": 15,
   "metadata": {},
   "outputs": [],
   "source": [
    "%matplotlib inline\n",
    "\n",
    "import sqlite3\n",
    "import pandas as pd #for data frames\n",
    "import numpy as np #numpy array operations\n",
    "import nltk #natural lang processing, for processing text\n",
    "import string\n",
    "import matplotlib.pyplot as plt\n",
    "import seaborn as sns #for plotting\n",
    "from sklearn.feature_extraction.text import TfidfTransformer\n",
    "from sklearn.feature_extraction.text import TfidfVectorizer\n",
    "from sklearn.feature_extraction.text import CountVectorizer\n",
    "\n",
    "from nltk.stem.porter import PorterStemmer\n",
    "import pickle\n",
    "import seaborn as sn\n",
    "\n",
    "import matplotlib.pyplot as plt\n",
    "from sklearn.cross_validation import train_test_split\n",
    "from sklearn.neighbors import KNeighborsClassifier\n",
    "from sklearn.metrics import accuracy_score\n",
    "from sklearn.cross_validation import cross_val_score\n",
    "from collections import Counter\n",
    "from sklearn.metrics import accuracy_score\n",
    "from sklearn import cross_validation\n",
    "from sklearn.model_selection import train_test_split\n",
    "from sklearn.metrics import average_precision_score,f1_score,precision_score,recall_score,auc,log_loss,confusion_matrix\n",
    "from sklearn.grid_search import GridSearchCV\n",
    "from sklearn.model_selection import RandomizedSearchCV\n",
    "\n",
    "from sklearn.svm import SVC\n",
    "from sklearn.manifold import TSNE\n",
    "\n",
    "from scipy.stats import expon\n",
    "import random\n",
    "\n",
    "from sklearn.tree import DecisionTreeClassifier"
   ]
  },
  {
   "cell_type": "code",
   "execution_count": 16,
   "metadata": {},
   "outputs": [
    {
     "name": "stderr",
     "output_type": "stream",
     "text": [
      "C:\\Users\\Dell\\Anaconda3\\lib\\site-packages\\sklearn\\base.py:315: UserWarning: Trying to unpickle estimator CountVectorizer from version 0.19.1 when using version 0.18.1. This might lead to breaking code or invalid results. Use at your own risk.\n",
      "  UserWarning)\n",
      "C:\\Users\\Dell\\Anaconda3\\lib\\site-packages\\sklearn\\base.py:315: UserWarning: Trying to unpickle estimator TfidfTransformer from version 0.19.1 when using version 0.18.1. This might lead to breaking code or invalid results. Use at your own risk.\n",
      "  UserWarning)\n",
      "C:\\Users\\Dell\\Anaconda3\\lib\\site-packages\\sklearn\\base.py:315: UserWarning: Trying to unpickle estimator TfidfVectorizer from version 0.19.1 when using version 0.18.1. This might lead to breaking code or invalid results. Use at your own risk.\n",
      "  UserWarning)\n"
     ]
    }
   ],
   "source": [
    "pickle_in=open(\"cleanedData.pickle\",\"rb\")\n",
    "final = pickle.load(pickle_in)\n",
    "\n",
    "'''pickle_in = open(\"BOW_tfidf_avgW2V_TfidfW2V.pickle\",\"rb\")\n",
    "count_vect = pickle.load(pickle_in) #BOW\n",
    "final_counts = pickle.load(pickle_in) #BOW\n",
    "\n",
    "tf_idf_vect = pickle.load(pickle_in) #TFIDF\n",
    "final_tf_idf = pickle.load(pickle_in) #TFIDF\n",
    "features = pickle.load(pickle_in) #TFIDF\n",
    "\n",
    "w2v_model = pickle.load(pickle_in) #w2v\n",
    "words = pickle.load(pickle_in) #w2v\n",
    "\n",
    "sent_vectors = pickle.load(pickle_in) #avg W2V'''\n",
    "\n",
    "import pickle\n",
    "pickle_in = open(\"BOW_tfidf_avgW2V_Train_test_data.pickle\",\"rb\")\n",
    "\n",
    "count_vect = pickle.load(pickle_in) #BOW\n",
    "final_counts_train = pickle.load(pickle_in) #BOW\n",
    "final_counts_test = pickle.load(pickle_in) #BOW\n",
    "tf_idf_vect = pickle.load(pickle_in) #tfidf\n",
    "final_tf_idf_train = pickle.load(pickle_in) #tfidf\n",
    "final_tf_idf_test = pickle.load(pickle_in) #tfidf\n",
    "features = pickle.load(pickle_in) \n",
    "sent_vectors_train = pickle.load(pickle_in) #avgW2v Vectors\n",
    "sent_vectors_test = pickle.load(pickle_in) #avgW2v Vectors"
   ]
  },
  {
   "cell_type": "code",
   "execution_count": 17,
   "metadata": {},
   "outputs": [
    {
     "data": {
      "text/plain": [
       "364171"
      ]
     },
     "execution_count": 17,
     "metadata": {},
     "output_type": "execute_result"
    }
   ],
   "source": [
    "train_data = final.head(int(0.80*final.shape[0]))\n",
    "test_data = final.head(int(0.20*final.shape[0])+1)\n",
    "\n",
    "scores = final['Score'].get_values()\n",
    "len(scores)"
   ]
  },
  {
   "cell_type": "markdown",
   "metadata": {},
   "source": [
    "<h4>Util Functions</h4>"
   ]
  },
  {
   "cell_type": "code",
   "execution_count": 19,
   "metadata": {},
   "outputs": [],
   "source": [
    "def convScores(scores):\n",
    "    li = lambda x: 1 if x=='positive'  else 0\n",
    "    final_scores = []\n",
    "    for i in range(0,len(scores)):\n",
    "        final_scores.append(li(scores[i]))\n",
    "    return final_scores\n",
    "\n",
    "def convToNpArray(arr):\n",
    "    if(type(arr) == list):\n",
    "        arr = np.array(arr)\n",
    "        return arr\n",
    "    else:\n",
    "        return arr;\n",
    "def confusionMatrix(y_test,pred):\n",
    "    \n",
    "    df_cm = pd.DataFrame(confusion_matrix(y_test, pred), index = ['False','True'],\n",
    "                      columns = ['False','True'])\n",
    "    sn.heatmap(df_cm, annot=True)\n",
    "    plt.title('Confusion Matrix')\n",
    "    plt.ylabel('Actual')\n",
    "    plt.xlabel('Predicted')\n",
    "    plt.show()\n",
    "\n",
    "def show_most_informative_features(vectorizer, clf, n=10):\n",
    "    feature_names = vectorizer.get_feature_names()\n",
    "    coefs_with_fns = sorted(zip(clf.feature_importances_, feature_names))\n",
    "    top = coefs_with_fns[:-(n + 1):-1]\n",
    "    print(\"Top 10 Features:\")\n",
    "    for (coef_1, fn_1) in top:\n",
    "        print(\"\")\n",
    "        print(\"%-15s\" % (fn_1))"
   ]
  },
  {
   "cell_type": "markdown",
   "metadata": {},
   "source": [
    "## Avg w2v DT"
   ]
  },
  {
   "cell_type": "code",
   "execution_count": 12,
   "metadata": {},
   "outputs": [],
   "source": [
    "x_1 = sent_vectors_train[0:100000]\n",
    "\n",
    "\n",
    "# this is only Score/rating  of data\n",
    "\n",
    "y_1 = convScores(train_data['Score'].get_values())[0:100000]\n",
    "\n",
    "x_test = sent_vectors_test[0:20000]\n",
    "y_test = convScores(test_data['Score'].get_values())[0:20000]\n",
    "\n",
    "\n",
    "x_1 = convToNpArray(x_1)\n",
    "x_test = convToNpArray(x_test)\n",
    "y_1 = convToNpArray(y_1)\n",
    "y_test = convToNpArray(y_test)"
   ]
  },
  {
   "cell_type": "code",
   "execution_count": 13,
   "metadata": {},
   "outputs": [
    {
     "name": "stdout",
     "output_type": "stream",
     "text": [
      "DecisionTreeClassifier(class_weight='balanced', criterion='gini',\n",
      "            max_depth=61, max_features=None, max_leaf_nodes=None,\n",
      "            min_impurity_split=1e-07, min_samples_leaf=1,\n",
      "            min_samples_split=2, min_weight_fraction_leaf=0.0,\n",
      "            presort=False, random_state=None, splitter='best')\n",
      "Score:  0.911167653078\n"
     ]
    },
    {
     "name": "stderr",
     "output_type": "stream",
     "text": [
      "C:\\Users\\Dell\\Anaconda3\\lib\\site-packages\\sklearn\\grid_search.py:438: ChangedBehaviorWarning: The long-standing behavior to use the estimator's score function in GridSearchCV.score has changed. The scoring parameter is now used.\n",
      "  ChangedBehaviorWarning)\n"
     ]
    }
   ],
   "source": [
    "tuned_parameters = {'max_depth':[11,21,41,61]}\n",
    "\n",
    "\n",
    "DT_model = DecisionTreeClassifier(class_weight='balanced')\n",
    "model = GridSearchCV(DT_model,tuned_parameters,\n",
    "                     scoring='f1',cv=5,n_jobs=-1)\n",
    "\n",
    "model.fit(x_1,y_1)\n",
    "\n",
    "print(model.best_estimator_)\n",
    "print(\"Score: \",model.score(x_test,y_test))"
   ]
  },
  {
   "cell_type": "code",
   "execution_count": 14,
   "metadata": {},
   "outputs": [
    {
     "data": {
      "image/png": "[encoded data removed]",
      "text/plain": [
       "<matplotlib.figure.Figure at 0x1f44d60ce10>"
      ]
     },
     "metadata": {},
     "output_type": "display_data"
    }
   ],
   "source": [
    "best_DT_model = model.best_estimator_\n",
    "best_DT_model.fit(x_1,y_1)\n",
    "pred = best_DT_model.predict(x_test)\n",
    "confusionMatrix(y_test,pred)"
   ]
  },
  {
   "cell_type": "code",
   "execution_count": 7,
   "metadata": {},
   "outputs": [],
   "source": [
    "def plotCVvsErr(li_of_depths,x_test,y_test):\n",
    "    #li_of_depths = [5,7,9,11]\n",
    "    li_of_errors=[]\n",
    "    for i in li_of_depths:\n",
    "        model = DecisionTreeClassifier(max_depth=i,class_weight='balanced')\n",
    "        model.fit(x_1,y_1)\n",
    "        err_val = 1-model.score(x_test,y_test);\n",
    "        li_of_errors.append(err_val)\n",
    "\n",
    "    plt.plot(li_of_depths,li_of_errors)\n",
    "    plt.xlabel('Depths')\n",
    "    plt.ylabel('Error Percentage')\n",
    "    plt.show()"
   ]
  },
  {
   "cell_type": "code",
   "execution_count": 20,
   "metadata": {},
   "outputs": [
    {
     "data": {
      "image/png": "[encoded data removed]",
      "text/plain": [
       "<matplotlib.figure.Figure at 0x2304b1a0be0>"
      ]
     },
     "metadata": {},
     "output_type": "display_data"
    }
   ],
   "source": [
    "plotCVvsErr([21,41,121],x_test,y_test)"
   ]
  },
  {
   "cell_type": "markdown",
   "metadata": {},
   "source": [
    "Observation: From the graph we can see that min Error is 0.1 at Depth 41, so best possible value of hyper parameter Depth is 41."
   ]
  },
  {
   "cell_type": "markdown",
   "metadata": {},
   "source": [
    "## BOW DT"
   ]
  },
  {
   "cell_type": "code",
   "execution_count": 13,
   "metadata": {},
   "outputs": [],
   "source": [
    "x_1 = final_counts_train[0:10000]\n",
    "\n",
    "\n",
    "# this is only Score/rating  of data\n",
    "\n",
    "y_1 = convScores(train_data['Score'].get_values())[0:10000]\n",
    "\n",
    "x_test = final_counts_test[0:3000]\n",
    "y_test = convScores(test_data['Score'].get_values())[0:3000]\n",
    "\n",
    "#x_1, x_test, y_1, y_test = train_test_split(x,y, test_size=0.3, random_state=0)\n",
    "\n",
    "x_1 = convToNpArray(x_1)\n",
    "x_test = convToNpArray(x_test)\n",
    "y_1 = convToNpArray(y_1)\n",
    "y_test = convToNpArray(y_test)"
   ]
  },
  {
   "cell_type": "code",
   "execution_count": 14,
   "metadata": {},
   "outputs": [
    {
     "name": "stdout",
     "output_type": "stream",
     "text": [
      "DecisionTreeClassifier(class_weight='balanced', criterion='gini',\n",
      "            max_depth=900, max_features=None, max_leaf_nodes=None,\n",
      "            min_impurity_split=1e-07, min_samples_leaf=1,\n",
      "            min_samples_split=2, min_weight_fraction_leaf=0.0,\n",
      "            presort=False, random_state=None, splitter='best')\n",
      "Score:  1.0\n"
     ]
    },
    {
     "name": "stderr",
     "output_type": "stream",
     "text": [
      "C:\\Users\\Dell\\Anaconda3\\lib\\site-packages\\sklearn\\grid_search.py:438: ChangedBehaviorWarning: The long-standing behavior to use the estimator's score function in GridSearchCV.score has changed. The scoring parameter is now used.\n",
      "  ChangedBehaviorWarning)\n"
     ]
    }
   ],
   "source": [
    "tuned_parameters = {'max_depth':[151,450,600,900]}\n",
    "\n",
    "\n",
    "DT_model = DecisionTreeClassifier(class_weight='balanced')\n",
    "model = GridSearchCV(DT_model,tuned_parameters,\n",
    "                     scoring='f1',cv=5,n_jobs=-1)\n",
    "\n",
    "model.fit(x_1,y_1)\n",
    "\n",
    "print(model.best_estimator_)\n",
    "print(\"Score: \",model.score(x_test,y_test))"
   ]
  },
  {
   "cell_type": "code",
   "execution_count": 15,
   "metadata": {},
   "outputs": [
    {
     "data": {
      "image/png": "[encoded data removed]",
      "text/plain": [
       "<matplotlib.figure.Figure at 0x237bfaa40f0>"
      ]
     },
     "metadata": {},
     "output_type": "display_data"
    }
   ],
   "source": [
    "best_DT_model = model.best_estimator_\n",
    "best_DT_model.fit(x_1,y_1)\n",
    "pred = best_DT_model.predict(x_test)\n",
    "confusionMatrix(y_test,pred)"
   ]
  },
  {
   "cell_type": "code",
   "execution_count": 34,
   "metadata": {},
   "outputs": [
    {
     "data": {
      "image/png": "[encoded data removed]",
      "text/plain": [
       "<matplotlib.figure.Figure at 0x2307fa67d68>"
      ]
     },
     "metadata": {},
     "output_type": "display_data"
    }
   ],
   "source": [
    "plotCVvsErr([151,450,600,900],x_test,y_test)"
   ]
  },
  {
   "cell_type": "markdown",
   "metadata": {},
   "source": [
    "### Important Features"
   ]
  },
  {
   "cell_type": "code",
   "execution_count": 33,
   "metadata": {},
   "outputs": [
    {
     "name": "stdout",
     "output_type": "stream",
     "text": [
      "Top 10 Features:\n",
      "\n",
      "great          \n",
      "\n",
      "best           \n",
      "\n",
      "love           \n",
      "\n",
      "delici         \n",
      "\n",
      "perfect        \n",
      "\n",
      "use            \n",
      "\n",
      "excel          \n",
      "\n",
      "nice           \n",
      "\n",
      "thought        \n",
      "\n",
      "good           \n"
     ]
    }
   ],
   "source": [
    "show_most_informative_features(count_vect,best_DT_model,10)"
   ]
  },
  {
   "cell_type": "markdown",
   "metadata": {},
   "source": [
    "## TFIDF DT"
   ]
  },
  {
   "cell_type": "code",
   "execution_count": 8,
   "metadata": {},
   "outputs": [],
   "source": [
    "x_1 = final_tf_idf_train[0:10000]\n",
    "\n",
    "y_1 = convScores(train_data['Score'].get_values())[0:10000]\n",
    "\n",
    "x_test = final_tf_idf_test[0:3000]\n",
    "y_test = convScores(test_data['Score'].get_values())[0:3000]\n",
    "\n",
    "x_1 = convToNpArray(x_1)\n",
    "x_test = convToNpArray(x_test)\n",
    "y_1 = convToNpArray(y_1)\n",
    "y_test = convToNpArray(y_test)"
   ]
  },
  {
   "cell_type": "code",
   "execution_count": 9,
   "metadata": {},
   "outputs": [
    {
     "name": "stdout",
     "output_type": "stream",
     "text": [
      "DecisionTreeClassifier(class_weight='balanced', criterion='gini',\n",
      "            max_depth=451, max_features=None, max_leaf_nodes=None,\n",
      "            min_impurity_split=1e-07, min_samples_leaf=1,\n",
      "            min_samples_split=2, min_weight_fraction_leaf=0.0,\n",
      "            presort=False, random_state=None, splitter='best')\n",
      "Score:  1.0\n"
     ]
    },
    {
     "name": "stderr",
     "output_type": "stream",
     "text": [
      "C:\\Users\\Dell\\Anaconda3\\lib\\site-packages\\sklearn\\grid_search.py:438: ChangedBehaviorWarning: The long-standing behavior to use the estimator's score function in GridSearchCV.score has changed. The scoring parameter is now used.\n",
      "  ChangedBehaviorWarning)\n"
     ]
    }
   ],
   "source": [
    "tuned_parameters = {'max_depth':[151,451,651]}\n",
    "\n",
    "\n",
    "DT_model = DecisionTreeClassifier(class_weight='balanced')\n",
    "model = GridSearchCV(DT_model,tuned_parameters,\n",
    "                     scoring='f1',cv=5,n_jobs=-1)\n",
    "\n",
    "model.fit(x_1,y_1)\n",
    "\n",
    "print(model.best_estimator_)\n",
    "print(\"Score: \",model.score(x_test,y_test))"
   ]
  },
  {
   "cell_type": "code",
   "execution_count": 10,
   "metadata": {},
   "outputs": [
    {
     "data": {
      "image/png": "[encoded data removed]",
      "text/plain": [
       "<matplotlib.figure.Figure at 0x1f415ee6da0>"
      ]
     },
     "metadata": {},
     "output_type": "display_data"
    }
   ],
   "source": [
    "best_DT_model = model.best_estimator_\n",
    "best_DT_model.fit(x_1,y_1)\n",
    "pred = best_DT_model.predict(x_test)\n",
    "confusionMatrix(y_test,pred)"
   ]
  },
  {
   "cell_type": "code",
   "execution_count": 28,
   "metadata": {},
   "outputs": [
    {
     "data": {
      "image/png": "[encoded data removed]",
      "text/plain": [
       "<matplotlib.figure.Figure at 0x23006493160>"
      ]
     },
     "metadata": {},
     "output_type": "display_data"
    }
   ],
   "source": [
    "plotCVvsErr([121,450,600],x_test,y_test)"
   ]
  },
  {
   "cell_type": "code",
   "execution_count": 11,
   "metadata": {},
   "outputs": [
    {
     "name": "stdout",
     "output_type": "stream",
     "text": [
      "Top 10 Features:\n",
      "\n",
      "great          \n",
      "\n",
      "best           \n",
      "\n",
      "love           \n",
      "\n",
      "delici         \n",
      "\n",
      "perfect        \n",
      "\n",
      "good           \n",
      "\n",
      "tea            \n",
      "\n",
      "excel          \n",
      "\n",
      "nice           \n",
      "\n",
      "favorit        \n"
     ]
    }
   ],
   "source": [
    "show_most_informative_features(tf_idf_vect,best_DT_model,10)"
   ]
  },
  {
   "cell_type": "markdown",
   "metadata": {},
   "source": [
    "## Important Features"
   ]
  },
  {
   "cell_type": "markdown",
   "metadata": {},
   "source": [
    "Observation:\n",
    "\n",
    "<table>\n",
    "    <tr>\n",
    "        <th>Vectorizer</th>\n",
    "        <th>Depth(Hyper Parameter)</th>\n",
    "        \n",
    "    </tr>\n",
    "    <tr>\n",
    "        <td>Avg W2v</td>\n",
    "        <td>41</td>\n",
    "       \n",
    "    </tr>\n",
    "    <tr>\n",
    "        <td>BOW</td>\n",
    "        <td>450</td>\n",
    "        \n",
    "    </tr>\n",
    "    <tr>\n",
    "        <td>TfIdf</td>\n",
    "        <td>450</td>\n",
    "        \n",
    "    </tr>\n",
    "</table>"
   ]
  },
  {
   "cell_type": "code",
   "execution_count": null,
   "metadata": {},
   "outputs": [],
   "source": []
  }
 ],
 "metadata": {
  "kernelspec": {
   "display_name": "Python 3",
   "language": "python",
   "name": "python3"
  },
  "language_info": {
   "codemirror_mode": {
    "name": "ipython",
    "version": 3
   },
   "file_extension": ".py",
   "mimetype": "text/x-python",
   "name": "python",
   "nbconvert_exporter": "python",
   "pygments_lexer": "ipython3",
   "version": "3.6.4"
  }
 },
 "nbformat": 4,
 "nbformat_minor": 2
}
