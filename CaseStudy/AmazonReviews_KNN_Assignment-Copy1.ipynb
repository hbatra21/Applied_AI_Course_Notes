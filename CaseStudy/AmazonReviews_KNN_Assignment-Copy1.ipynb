{
 "cells": [
  {
   "cell_type": "markdown",
   "metadata": {},
   "source": [
    "# AmazonReviews KNN Assignment"
   ]
  },
  {
   "cell_type": "code",
   "execution_count": 1,
   "metadata": {},
   "outputs": [
    {
     "name": "stderr",
     "output_type": "stream",
     "text": [
      "C:\\Users\\Dell\\Anaconda3\\lib\\site-packages\\sklearn\\cross_validation.py:41: DeprecationWarning: This module was deprecated in version 0.18 in favor of the model_selection module into which all the refactored classes and functions are moved. Also note that the interface of the new CV iterators are different from that of this module. This module will be removed in 0.20.\n",
      "  \"This module will be removed in 0.20.\", DeprecationWarning)\n"
     ]
    }
   ],
   "source": [
    "%matplotlib inline\n",
    "\n",
    "import sqlite3\n",
    "import pandas as pd #for data frames\n",
    "import numpy as np #numpy array operations\n",
    "import nltk #natural lang processing, for processing text\n",
    "import string\n",
    "import matplotlib.pyplot as plt\n",
    "import seaborn as sns #for plotting\n",
    "from sklearn.feature_extraction.text import TfidfTransformer\n",
    "from sklearn.feature_extraction.text import TfidfVectorizer\n",
    "from sklearn.feature_extraction.text import CountVectorizer\n",
    "from sklearn.metrics import roc_curve, auc\n",
    "from nltk.stem.porter import PorterStemmer\n",
    "import pickle\n",
    "import seaborn as sn\n",
    "\n",
    "import matplotlib.pyplot as plt\n",
    "from sklearn.cross_validation import train_test_split\n",
    "from sklearn.neighbors import KNeighborsClassifier\n",
    "from sklearn.metrics import accuracy_score\n",
    "from sklearn.cross_validation import cross_val_score\n",
    "from collections import Counter\n",
    "from sklearn.metrics import accuracy_score\n",
    "from sklearn import cross_validation\n"
   ]
  },
  {
   "cell_type": "code",
   "execution_count": 2,
   "metadata": {},
   "outputs": [],
   "source": [
    "pickle_in=open(\"cleanedData.pickle\",\"rb\")\n",
    "final = pickle.load(pickle_in)"
   ]
  },
  {
   "cell_type": "code",
   "execution_count": 3,
   "metadata": {},
   "outputs": [
    {
     "name": "stderr",
     "output_type": "stream",
     "text": [
      "C:\\Users\\Dell\\Anaconda3\\lib\\site-packages\\gensim\\utils.py:1197: UserWarning: detected Windows; aliasing chunkize to chunkize_serial\n",
      "  warnings.warn(\"detected Windows; aliasing chunkize to chunkize_serial\")\n"
     ]
    }
   ],
   "source": [
    "pickle_in = open(\"BOW_tfidf_avgW2V_TfidfW2V.pickle\",\"rb\")\n",
    "count_vect = pickle.load(pickle_in) #BOW\n",
    "final_counts = pickle.load(pickle_in) #BOW\n",
    "\n",
    "tf_idf_vect = pickle.load(pickle_in) #TFIDF\n",
    "final_tf_idf = pickle.load(pickle_in) #TFIDF\n",
    "features = pickle.load(pickle_in) #TFIDF\n",
    "\n",
    "w2v_model = pickle.load(pickle_in) #w2v\n",
    "words = pickle.load(pickle_in) #w2v\n",
    "\n",
    "sent_vectors = pickle.load(pickle_in) #avg W2V"
   ]
  },
  {
   "cell_type": "code",
   "execution_count": 4,
   "metadata": {},
   "outputs": [],
   "source": [
    "# Weighted TF_IDF W2V\n",
    "pickle_in =open(\"WiightedTfidfW2V.pickle\",\"rb\")\n",
    "tfidf_sent_vectors = pickle.load(pickle_in)"
   ]
  },
  {
   "cell_type": "code",
   "execution_count": 5,
   "metadata": {},
   "outputs": [
    {
     "data": {
      "text/plain": [
       "(364171, 11)"
      ]
     },
     "execution_count": 5,
     "metadata": {},
     "output_type": "execute_result"
    }
   ],
   "source": [
    "final.shape"
   ]
  },
  {
   "cell_type": "code",
   "execution_count": 6,
   "metadata": {},
   "outputs": [
    {
     "data": {
      "text/plain": [
       "(364171, 115281)"
      ]
     },
     "execution_count": 6,
     "metadata": {},
     "output_type": "execute_result"
    }
   ],
   "source": [
    "final_counts.shape"
   ]
  },
  {
   "cell_type": "code",
   "execution_count": 7,
   "metadata": {},
   "outputs": [],
   "source": [
    "scores = final['Score'].get_values()"
   ]
  },
  {
   "cell_type": "code",
   "execution_count": 8,
   "metadata": {},
   "outputs": [],
   "source": [
    "li = lambda x: 1 if x=='positive'  else 0\n",
    "final_scores = []\n",
    "for i in range(0,364171):\n",
    "    final_scores.append(li(scores[i]))"
   ]
  },
  {
   "cell_type": "markdown",
   "metadata": {},
   "source": [
    "# BOW K-Fold CV"
   ]
  },
  {
   "cell_type": "code",
   "execution_count": 18,
   "metadata": {},
   "outputs": [],
   "source": [
    "bow_knn_dataset = pd.DataFrame(final_counts[0:1000].toarray())"
   ]
  },
  {
   "cell_type": "code",
   "execution_count": 19,
   "metadata": {},
   "outputs": [],
   "source": [
    "bow_knn_dataset['Score'] = pd.Series(final_scores[0:1000])"
   ]
  },
  {
   "cell_type": "code",
   "execution_count": 20,
   "metadata": {},
   "outputs": [],
   "source": [
    "bow_knn_sample = bow_knn_dataset"
   ]
  },
  {
   "cell_type": "code",
   "execution_count": 21,
   "metadata": {},
   "outputs": [
    {
     "data": {
      "text/html": [
       "<div>\n",
       "<style scoped>\n",
       "    .dataframe tbody tr th:only-of-type {\n",
       "        vertical-align: middle;\n",
       "    }\n",
       "\n",
       "    .dataframe tbody tr th {\n",
       "        vertical-align: top;\n",
       "    }\n",
       "\n",
       "    .dataframe thead th {\n",
       "        text-align: right;\n",
       "    }\n",
       "</style>\n",
       "<table border=\"1\" class=\"dataframe\">\n",
       "  <thead>\n",
       "    <tr style=\"text-align: right;\">\n",
       "      <th></th>\n",
       "      <th>0</th>\n",
       "      <th>1</th>\n",
       "      <th>2</th>\n",
       "      <th>3</th>\n",
       "      <th>4</th>\n",
       "      <th>5</th>\n",
       "      <th>6</th>\n",
       "      <th>7</th>\n",
       "      <th>8</th>\n",
       "      <th>9</th>\n",
       "      <th>...</th>\n",
       "      <th>115272</th>\n",
       "      <th>115273</th>\n",
       "      <th>115274</th>\n",
       "      <th>115275</th>\n",
       "      <th>115276</th>\n",
       "      <th>115277</th>\n",
       "      <th>115278</th>\n",
       "      <th>115279</th>\n",
       "      <th>115280</th>\n",
       "      <th>Score</th>\n",
       "    </tr>\n",
       "  </thead>\n",
       "  <tbody>\n",
       "    <tr>\n",
       "      <th>0</th>\n",
       "      <td>0</td>\n",
       "      <td>0</td>\n",
       "      <td>0</td>\n",
       "      <td>0</td>\n",
       "      <td>0</td>\n",
       "      <td>0</td>\n",
       "      <td>0</td>\n",
       "      <td>0</td>\n",
       "      <td>0</td>\n",
       "      <td>0</td>\n",
       "      <td>...</td>\n",
       "      <td>0</td>\n",
       "      <td>0</td>\n",
       "      <td>0</td>\n",
       "      <td>0</td>\n",
       "      <td>0</td>\n",
       "      <td>0</td>\n",
       "      <td>0</td>\n",
       "      <td>0</td>\n",
       "      <td>0</td>\n",
       "      <td>1</td>\n",
       "    </tr>\n",
       "    <tr>\n",
       "      <th>1</th>\n",
       "      <td>0</td>\n",
       "      <td>0</td>\n",
       "      <td>0</td>\n",
       "      <td>0</td>\n",
       "      <td>0</td>\n",
       "      <td>0</td>\n",
       "      <td>0</td>\n",
       "      <td>0</td>\n",
       "      <td>0</td>\n",
       "      <td>0</td>\n",
       "      <td>...</td>\n",
       "      <td>0</td>\n",
       "      <td>0</td>\n",
       "      <td>0</td>\n",
       "      <td>0</td>\n",
       "      <td>0</td>\n",
       "      <td>0</td>\n",
       "      <td>0</td>\n",
       "      <td>0</td>\n",
       "      <td>0</td>\n",
       "      <td>1</td>\n",
       "    </tr>\n",
       "    <tr>\n",
       "      <th>2</th>\n",
       "      <td>0</td>\n",
       "      <td>0</td>\n",
       "      <td>0</td>\n",
       "      <td>0</td>\n",
       "      <td>0</td>\n",
       "      <td>0</td>\n",
       "      <td>0</td>\n",
       "      <td>0</td>\n",
       "      <td>0</td>\n",
       "      <td>0</td>\n",
       "      <td>...</td>\n",
       "      <td>0</td>\n",
       "      <td>0</td>\n",
       "      <td>0</td>\n",
       "      <td>0</td>\n",
       "      <td>0</td>\n",
       "      <td>0</td>\n",
       "      <td>0</td>\n",
       "      <td>0</td>\n",
       "      <td>0</td>\n",
       "      <td>1</td>\n",
       "    </tr>\n",
       "    <tr>\n",
       "      <th>3</th>\n",
       "      <td>0</td>\n",
       "      <td>0</td>\n",
       "      <td>0</td>\n",
       "      <td>0</td>\n",
       "      <td>0</td>\n",
       "      <td>0</td>\n",
       "      <td>0</td>\n",
       "      <td>0</td>\n",
       "      <td>0</td>\n",
       "      <td>0</td>\n",
       "      <td>...</td>\n",
       "      <td>0</td>\n",
       "      <td>0</td>\n",
       "      <td>0</td>\n",
       "      <td>0</td>\n",
       "      <td>0</td>\n",
       "      <td>0</td>\n",
       "      <td>0</td>\n",
       "      <td>0</td>\n",
       "      <td>0</td>\n",
       "      <td>1</td>\n",
       "    </tr>\n",
       "    <tr>\n",
       "      <th>4</th>\n",
       "      <td>0</td>\n",
       "      <td>0</td>\n",
       "      <td>0</td>\n",
       "      <td>0</td>\n",
       "      <td>0</td>\n",
       "      <td>0</td>\n",
       "      <td>0</td>\n",
       "      <td>0</td>\n",
       "      <td>0</td>\n",
       "      <td>0</td>\n",
       "      <td>...</td>\n",
       "      <td>0</td>\n",
       "      <td>0</td>\n",
       "      <td>0</td>\n",
       "      <td>0</td>\n",
       "      <td>0</td>\n",
       "      <td>0</td>\n",
       "      <td>0</td>\n",
       "      <td>0</td>\n",
       "      <td>0</td>\n",
       "      <td>1</td>\n",
       "    </tr>\n",
       "  </tbody>\n",
       "</table>\n",
       "<p>5 rows × 115282 columns</p>\n",
       "</div>"
      ],
      "text/plain": [
       "   0  1  2  3  4  5  6  7  8  9  ...    115272  115273  115274  115275  \\\n",
       "0  0  0  0  0  0  0  0  0  0  0  ...         0       0       0       0   \n",
       "1  0  0  0  0  0  0  0  0  0  0  ...         0       0       0       0   \n",
       "2  0  0  0  0  0  0  0  0  0  0  ...         0       0       0       0   \n",
       "3  0  0  0  0  0  0  0  0  0  0  ...         0       0       0       0   \n",
       "4  0  0  0  0  0  0  0  0  0  0  ...         0       0       0       0   \n",
       "\n",
       "   115276  115277  115278  115279  115280  Score  \n",
       "0       0       0       0       0       0      1  \n",
       "1       0       0       0       0       0      1  \n",
       "2       0       0       0       0       0      1  \n",
       "3       0       0       0       0       0      1  \n",
       "4       0       0       0       0       0      1  \n",
       "\n",
       "[5 rows x 115282 columns]"
      ]
     },
     "execution_count": 21,
     "metadata": {},
     "output_type": "execute_result"
    }
   ],
   "source": [
    "bow_knn_sample.head()"
   ]
  },
  {
   "cell_type": "code",
   "execution_count": 43,
   "metadata": {},
   "outputs": [],
   "source": [
    "\n",
    "# Total data frame\n",
    "#x = np.array(bow_knn_sample.iloc[:,0:115283])\n",
    "\n",
    "x = final_counts[0:1000]\n",
    "\n",
    "# this is only Score/rating  of data\n",
    "#y = np.array(bow_knn_sample['Score'])\n",
    "\n",
    "y = final_scores[0:1000]"
   ]
  },
  {
   "cell_type": "code",
   "execution_count": 26,
   "metadata": {},
   "outputs": [],
   "source": [
    "# Total data frame\n",
    "x = np.array(bow_knn_sample.iloc[:,0:115283])\n",
    "\n",
    "\n",
    "\n",
    "# this is only Score/rating  of data\n",
    "y = np.array(bow_knn_sample['Score'])\n",
    "\n"
   ]
  },
  {
   "cell_type": "code",
   "execution_count": 44,
   "metadata": {},
   "outputs": [],
   "source": [
    "#splitting the train and test data\n",
    "\n",
    "x_1, x_test, y_1, y_test = cross_validation.train_test_split(x,y, test_size=0.3, random_state=0)\n"
   ]
  },
  {
   "cell_type": "code",
   "execution_count": 45,
   "metadata": {},
   "outputs": [],
   "source": [
    "#x_1 = np.array(x_1)\n",
    "\n",
    "y_1 = np.array(y_1)\n",
    "\n",
    "#x_test = np.array(x_test)\n",
    "\n",
    "y_test = np.array(y_test)\n"
   ]
  },
  {
   "cell_type": "markdown",
   "metadata": {},
   "source": [
    "## k-fold Cross Validation Using Time Based Split"
   ]
  },
  {
   "cell_type": "code",
   "execution_count": 46,
   "metadata": {},
   "outputs": [],
   "source": [
    "from sklearn.model_selection import TimeSeriesSplit\n",
    "\n",
    "def k_fold_cross_validation(x_mat,y_vec):\n",
    "    li = list(range(0,14))\n",
    "    \n",
    "    #creating odd list of vals for 'k'\n",
    "    neighbors = list(filter(lambda x: x%2 != 0,li))\n",
    "\n",
    "    #empty list to hold CV scores/accuracy\n",
    "    cv_scores = []\n",
    "\n",
    "    \n",
    "    #performing k-fold cross validation with Times Based Split\n",
    "    for k in neighbors:\n",
    "        knn = KNeighborsClassifier(n_neighbors=k,algorithm='kd_tree',n_jobs=-1)\n",
    "        tscv = TimeSeriesSplit(n_splits=5)\n",
    "        acc_sum=0\n",
    "        cnt=0\n",
    "        for train_index, test_index in tscv.split(x_1):\n",
    "            X_train, X_test = x_1[train_index], x_1[test_index]\n",
    "            Y_train, Y_test = y_1[train_index], y_1[test_index]\n",
    "            knn.fit(X_train,Y_train)\n",
    "            pred = knn.predict(X_test)\n",
    "            acc = accuracy_score(Y_test, pred, normalize=True )*float(100)\n",
    "            acc_sum=acc_sum+acc\n",
    "            cnt=cnt+1\n",
    "        cv_scores.append(acc_sum/cnt)\n",
    "            \n",
    "            \n",
    "   \n",
    "    # determining best k\n",
    "    optimal_k = neighbors[cv_scores.index(max(cv_scores))]\n",
    "    print('\\nThe optimal number of neighbors is %d.' % optimal_k)\n",
    "\n",
    "    # plot misclassification error vs k \n",
    "    plt.plot(neighbors, cv_scores)\n",
    "\n",
    "    for xy in zip(neighbors, np.round(cv_scores,3)):\n",
    "        plt.annotate('(%s, %s)' % xy, xy=xy, textcoords='data')\n",
    "\n",
    "    plt.xlabel('Number of Neighbors K')\n",
    "    plt.ylabel('Accuracy Percentage')\n",
    "    plt.show()\n",
    "\n",
    "    print(\"the Accuracy for each k value is : \", np.round(cv_scores,3))\n",
    "    print('*********************************************************************')\n",
    "    print(\"optimal k value is: \",optimal_k)\n",
    "    return optimal_k;"
   ]
  },
  {
   "cell_type": "code",
   "execution_count": 47,
   "metadata": {},
   "outputs": [
    {
     "name": "stderr",
     "output_type": "stream",
     "text": [
      "C:\\Users\\Dell\\Anaconda3\\lib\\site-packages\\sklearn\\neighbors\\base.py:212: UserWarning: cannot use tree with sparse input: using brute force\n",
      "  warnings.warn(\"cannot use tree with sparse input: \"\n"
     ]
    },
    {
     "name": "stdout",
     "output_type": "stream",
     "text": [
      "\n",
      "The optimal number of neighbors is 5.\n"
     ]
    },
    {
     "data": {
      "image/png": "[encoded data removed]",
      "text/plain": [
       "<matplotlib.figure.Figure at 0x206bd7950b8>"
      ]
     },
     "metadata": {},
     "output_type": "display_data"
    },
    {
     "name": "stdout",
     "output_type": "stream",
     "text": [
      "the Accuracy for each k value is :  [87.069 91.552 92.069 92.069 92.069 92.069 92.069]\n",
      "*********************************************************************\n",
      "optimal k value is:  5\n"
     ]
    }
   ],
   "source": [
    "optim_k_val = k_fold_cross_validation(x_1,y_1)"
   ]
  },
  {
   "cell_type": "code",
   "execution_count": 48,
   "metadata": {},
   "outputs": [
    {
     "name": "stdout",
     "output_type": "stream",
     "text": [
      "\n",
      "The accuracy of the knn classifier for k = 5 is 93.000000%\n"
     ]
    }
   ],
   "source": [
    "knn_optimal = KNeighborsClassifier(n_neighbors=optim_k_val)\n",
    "\n",
    "# fitting the model\n",
    "knn_optimal.fit(x_1, y_1)\n",
    "\n",
    "# predict the response\n",
    "pred = knn_optimal.predict(x_test)\n",
    "\n",
    "# evaluate accuracy\n",
    "acc = accuracy_score(y_test, pred) * 100\n",
    "print('\\nThe accuracy of the knn classifier for k = %d is %f%%' % (optim_k_val, acc))"
   ]
  },
  {
   "cell_type": "markdown",
   "metadata": {},
   "source": [
    "# TF_IDF K-fold CV"
   ]
  },
  {
   "cell_type": "code",
   "execution_count": 33,
   "metadata": {},
   "outputs": [
    {
     "data": {
      "text/plain": [
       "(364171, 2910192)"
      ]
     },
     "execution_count": 33,
     "metadata": {},
     "output_type": "execute_result"
    }
   ],
   "source": [
    "final_tf_idf.shape"
   ]
  },
  {
   "cell_type": "code",
   "execution_count": 34,
   "metadata": {},
   "outputs": [],
   "source": [
    "tf_idf_dataset = pd.DataFrame(final_tf_idf[0:1000].toarray())"
   ]
  },
  {
   "cell_type": "code",
   "execution_count": 35,
   "metadata": {},
   "outputs": [
    {
     "data": {
      "text/html": [
       "<div>\n",
       "<style scoped>\n",
       "    .dataframe tbody tr th:only-of-type {\n",
       "        vertical-align: middle;\n",
       "    }\n",
       "\n",
       "    .dataframe tbody tr th {\n",
       "        vertical-align: top;\n",
       "    }\n",
       "\n",
       "    .dataframe thead th {\n",
       "        text-align: right;\n",
       "    }\n",
       "</style>\n",
       "<table border=\"1\" class=\"dataframe\">\n",
       "  <thead>\n",
       "    <tr style=\"text-align: right;\">\n",
       "      <th></th>\n",
       "      <th>0</th>\n",
       "      <th>1</th>\n",
       "      <th>2</th>\n",
       "      <th>3</th>\n",
       "      <th>4</th>\n",
       "      <th>5</th>\n",
       "      <th>6</th>\n",
       "      <th>7</th>\n",
       "      <th>8</th>\n",
       "      <th>9</th>\n",
       "      <th>...</th>\n",
       "      <th>2910182</th>\n",
       "      <th>2910183</th>\n",
       "      <th>2910184</th>\n",
       "      <th>2910185</th>\n",
       "      <th>2910186</th>\n",
       "      <th>2910187</th>\n",
       "      <th>2910188</th>\n",
       "      <th>2910189</th>\n",
       "      <th>2910190</th>\n",
       "      <th>2910191</th>\n",
       "    </tr>\n",
       "  </thead>\n",
       "  <tbody>\n",
       "    <tr>\n",
       "      <th>0</th>\n",
       "      <td>0.0</td>\n",
       "      <td>0.0</td>\n",
       "      <td>0.0</td>\n",
       "      <td>0.0</td>\n",
       "      <td>0.0</td>\n",
       "      <td>0.0</td>\n",
       "      <td>0.0</td>\n",
       "      <td>0.0</td>\n",
       "      <td>0.0</td>\n",
       "      <td>0.0</td>\n",
       "      <td>...</td>\n",
       "      <td>0.0</td>\n",
       "      <td>0.0</td>\n",
       "      <td>0.0</td>\n",
       "      <td>0.0</td>\n",
       "      <td>0.0</td>\n",
       "      <td>0.0</td>\n",
       "      <td>0.0</td>\n",
       "      <td>0.0</td>\n",
       "      <td>0.0</td>\n",
       "      <td>0.0</td>\n",
       "    </tr>\n",
       "    <tr>\n",
       "      <th>1</th>\n",
       "      <td>0.0</td>\n",
       "      <td>0.0</td>\n",
       "      <td>0.0</td>\n",
       "      <td>0.0</td>\n",
       "      <td>0.0</td>\n",
       "      <td>0.0</td>\n",
       "      <td>0.0</td>\n",
       "      <td>0.0</td>\n",
       "      <td>0.0</td>\n",
       "      <td>0.0</td>\n",
       "      <td>...</td>\n",
       "      <td>0.0</td>\n",
       "      <td>0.0</td>\n",
       "      <td>0.0</td>\n",
       "      <td>0.0</td>\n",
       "      <td>0.0</td>\n",
       "      <td>0.0</td>\n",
       "      <td>0.0</td>\n",
       "      <td>0.0</td>\n",
       "      <td>0.0</td>\n",
       "      <td>0.0</td>\n",
       "    </tr>\n",
       "    <tr>\n",
       "      <th>2</th>\n",
       "      <td>0.0</td>\n",
       "      <td>0.0</td>\n",
       "      <td>0.0</td>\n",
       "      <td>0.0</td>\n",
       "      <td>0.0</td>\n",
       "      <td>0.0</td>\n",
       "      <td>0.0</td>\n",
       "      <td>0.0</td>\n",
       "      <td>0.0</td>\n",
       "      <td>0.0</td>\n",
       "      <td>...</td>\n",
       "      <td>0.0</td>\n",
       "      <td>0.0</td>\n",
       "      <td>0.0</td>\n",
       "      <td>0.0</td>\n",
       "      <td>0.0</td>\n",
       "      <td>0.0</td>\n",
       "      <td>0.0</td>\n",
       "      <td>0.0</td>\n",
       "      <td>0.0</td>\n",
       "      <td>0.0</td>\n",
       "    </tr>\n",
       "    <tr>\n",
       "      <th>3</th>\n",
       "      <td>0.0</td>\n",
       "      <td>0.0</td>\n",
       "      <td>0.0</td>\n",
       "      <td>0.0</td>\n",
       "      <td>0.0</td>\n",
       "      <td>0.0</td>\n",
       "      <td>0.0</td>\n",
       "      <td>0.0</td>\n",
       "      <td>0.0</td>\n",
       "      <td>0.0</td>\n",
       "      <td>...</td>\n",
       "      <td>0.0</td>\n",
       "      <td>0.0</td>\n",
       "      <td>0.0</td>\n",
       "      <td>0.0</td>\n",
       "      <td>0.0</td>\n",
       "      <td>0.0</td>\n",
       "      <td>0.0</td>\n",
       "      <td>0.0</td>\n",
       "      <td>0.0</td>\n",
       "      <td>0.0</td>\n",
       "    </tr>\n",
       "    <tr>\n",
       "      <th>4</th>\n",
       "      <td>0.0</td>\n",
       "      <td>0.0</td>\n",
       "      <td>0.0</td>\n",
       "      <td>0.0</td>\n",
       "      <td>0.0</td>\n",
       "      <td>0.0</td>\n",
       "      <td>0.0</td>\n",
       "      <td>0.0</td>\n",
       "      <td>0.0</td>\n",
       "      <td>0.0</td>\n",
       "      <td>...</td>\n",
       "      <td>0.0</td>\n",
       "      <td>0.0</td>\n",
       "      <td>0.0</td>\n",
       "      <td>0.0</td>\n",
       "      <td>0.0</td>\n",
       "      <td>0.0</td>\n",
       "      <td>0.0</td>\n",
       "      <td>0.0</td>\n",
       "      <td>0.0</td>\n",
       "      <td>0.0</td>\n",
       "    </tr>\n",
       "  </tbody>\n",
       "</table>\n",
       "<p>5 rows × 2910192 columns</p>\n",
       "</div>"
      ],
      "text/plain": [
       "   0        1        2        3        4        5        6        7        \\\n",
       "0      0.0      0.0      0.0      0.0      0.0      0.0      0.0      0.0   \n",
       "1      0.0      0.0      0.0      0.0      0.0      0.0      0.0      0.0   \n",
       "2      0.0      0.0      0.0      0.0      0.0      0.0      0.0      0.0   \n",
       "3      0.0      0.0      0.0      0.0      0.0      0.0      0.0      0.0   \n",
       "4      0.0      0.0      0.0      0.0      0.0      0.0      0.0      0.0   \n",
       "\n",
       "   8        9         ...     2910182  2910183  2910184  2910185  2910186  \\\n",
       "0      0.0      0.0   ...         0.0      0.0      0.0      0.0      0.0   \n",
       "1      0.0      0.0   ...         0.0      0.0      0.0      0.0      0.0   \n",
       "2      0.0      0.0   ...         0.0      0.0      0.0      0.0      0.0   \n",
       "3      0.0      0.0   ...         0.0      0.0      0.0      0.0      0.0   \n",
       "4      0.0      0.0   ...         0.0      0.0      0.0      0.0      0.0   \n",
       "\n",
       "   2910187  2910188  2910189  2910190  2910191  \n",
       "0      0.0      0.0      0.0      0.0      0.0  \n",
       "1      0.0      0.0      0.0      0.0      0.0  \n",
       "2      0.0      0.0      0.0      0.0      0.0  \n",
       "3      0.0      0.0      0.0      0.0      0.0  \n",
       "4      0.0      0.0      0.0      0.0      0.0  \n",
       "\n",
       "[5 rows x 2910192 columns]"
      ]
     },
     "execution_count": 35,
     "metadata": {},
     "output_type": "execute_result"
    }
   ],
   "source": [
    "tf_idf_dataset.head()"
   ]
  },
  {
   "cell_type": "code",
   "execution_count": 36,
   "metadata": {},
   "outputs": [],
   "source": [
    "tf_idf_dataset[2910192] =pd.Series(final_scores[0:1000])"
   ]
  },
  {
   "cell_type": "code",
   "execution_count": 37,
   "metadata": {},
   "outputs": [
    {
     "data": {
      "text/html": [
       "<div>\n",
       "<style scoped>\n",
       "    .dataframe tbody tr th:only-of-type {\n",
       "        vertical-align: middle;\n",
       "    }\n",
       "\n",
       "    .dataframe tbody tr th {\n",
       "        vertical-align: top;\n",
       "    }\n",
       "\n",
       "    .dataframe thead th {\n",
       "        text-align: right;\n",
       "    }\n",
       "</style>\n",
       "<table border=\"1\" class=\"dataframe\">\n",
       "  <thead>\n",
       "    <tr style=\"text-align: right;\">\n",
       "      <th></th>\n",
       "      <th>0</th>\n",
       "      <th>1</th>\n",
       "      <th>2</th>\n",
       "      <th>3</th>\n",
       "      <th>4</th>\n",
       "      <th>5</th>\n",
       "      <th>6</th>\n",
       "      <th>7</th>\n",
       "      <th>8</th>\n",
       "      <th>9</th>\n",
       "      <th>...</th>\n",
       "      <th>2910183</th>\n",
       "      <th>2910184</th>\n",
       "      <th>2910185</th>\n",
       "      <th>2910186</th>\n",
       "      <th>2910187</th>\n",
       "      <th>2910188</th>\n",
       "      <th>2910189</th>\n",
       "      <th>2910190</th>\n",
       "      <th>2910191</th>\n",
       "      <th>2910192</th>\n",
       "    </tr>\n",
       "  </thead>\n",
       "  <tbody>\n",
       "    <tr>\n",
       "      <th>0</th>\n",
       "      <td>0.0</td>\n",
       "      <td>0.0</td>\n",
       "      <td>0.0</td>\n",
       "      <td>0.0</td>\n",
       "      <td>0.0</td>\n",
       "      <td>0.0</td>\n",
       "      <td>0.0</td>\n",
       "      <td>0.0</td>\n",
       "      <td>0.0</td>\n",
       "      <td>0.0</td>\n",
       "      <td>...</td>\n",
       "      <td>0.0</td>\n",
       "      <td>0.0</td>\n",
       "      <td>0.0</td>\n",
       "      <td>0.0</td>\n",
       "      <td>0.0</td>\n",
       "      <td>0.0</td>\n",
       "      <td>0.0</td>\n",
       "      <td>0.0</td>\n",
       "      <td>0.0</td>\n",
       "      <td>1</td>\n",
       "    </tr>\n",
       "    <tr>\n",
       "      <th>1</th>\n",
       "      <td>0.0</td>\n",
       "      <td>0.0</td>\n",
       "      <td>0.0</td>\n",
       "      <td>0.0</td>\n",
       "      <td>0.0</td>\n",
       "      <td>0.0</td>\n",
       "      <td>0.0</td>\n",
       "      <td>0.0</td>\n",
       "      <td>0.0</td>\n",
       "      <td>0.0</td>\n",
       "      <td>...</td>\n",
       "      <td>0.0</td>\n",
       "      <td>0.0</td>\n",
       "      <td>0.0</td>\n",
       "      <td>0.0</td>\n",
       "      <td>0.0</td>\n",
       "      <td>0.0</td>\n",
       "      <td>0.0</td>\n",
       "      <td>0.0</td>\n",
       "      <td>0.0</td>\n",
       "      <td>1</td>\n",
       "    </tr>\n",
       "    <tr>\n",
       "      <th>2</th>\n",
       "      <td>0.0</td>\n",
       "      <td>0.0</td>\n",
       "      <td>0.0</td>\n",
       "      <td>0.0</td>\n",
       "      <td>0.0</td>\n",
       "      <td>0.0</td>\n",
       "      <td>0.0</td>\n",
       "      <td>0.0</td>\n",
       "      <td>0.0</td>\n",
       "      <td>0.0</td>\n",
       "      <td>...</td>\n",
       "      <td>0.0</td>\n",
       "      <td>0.0</td>\n",
       "      <td>0.0</td>\n",
       "      <td>0.0</td>\n",
       "      <td>0.0</td>\n",
       "      <td>0.0</td>\n",
       "      <td>0.0</td>\n",
       "      <td>0.0</td>\n",
       "      <td>0.0</td>\n",
       "      <td>1</td>\n",
       "    </tr>\n",
       "    <tr>\n",
       "      <th>3</th>\n",
       "      <td>0.0</td>\n",
       "      <td>0.0</td>\n",
       "      <td>0.0</td>\n",
       "      <td>0.0</td>\n",
       "      <td>0.0</td>\n",
       "      <td>0.0</td>\n",
       "      <td>0.0</td>\n",
       "      <td>0.0</td>\n",
       "      <td>0.0</td>\n",
       "      <td>0.0</td>\n",
       "      <td>...</td>\n",
       "      <td>0.0</td>\n",
       "      <td>0.0</td>\n",
       "      <td>0.0</td>\n",
       "      <td>0.0</td>\n",
       "      <td>0.0</td>\n",
       "      <td>0.0</td>\n",
       "      <td>0.0</td>\n",
       "      <td>0.0</td>\n",
       "      <td>0.0</td>\n",
       "      <td>1</td>\n",
       "    </tr>\n",
       "    <tr>\n",
       "      <th>4</th>\n",
       "      <td>0.0</td>\n",
       "      <td>0.0</td>\n",
       "      <td>0.0</td>\n",
       "      <td>0.0</td>\n",
       "      <td>0.0</td>\n",
       "      <td>0.0</td>\n",
       "      <td>0.0</td>\n",
       "      <td>0.0</td>\n",
       "      <td>0.0</td>\n",
       "      <td>0.0</td>\n",
       "      <td>...</td>\n",
       "      <td>0.0</td>\n",
       "      <td>0.0</td>\n",
       "      <td>0.0</td>\n",
       "      <td>0.0</td>\n",
       "      <td>0.0</td>\n",
       "      <td>0.0</td>\n",
       "      <td>0.0</td>\n",
       "      <td>0.0</td>\n",
       "      <td>0.0</td>\n",
       "      <td>1</td>\n",
       "    </tr>\n",
       "  </tbody>\n",
       "</table>\n",
       "<p>5 rows × 2910193 columns</p>\n",
       "</div>"
      ],
      "text/plain": [
       "   0        1        2        3        4        5        6        7        \\\n",
       "0      0.0      0.0      0.0      0.0      0.0      0.0      0.0      0.0   \n",
       "1      0.0      0.0      0.0      0.0      0.0      0.0      0.0      0.0   \n",
       "2      0.0      0.0      0.0      0.0      0.0      0.0      0.0      0.0   \n",
       "3      0.0      0.0      0.0      0.0      0.0      0.0      0.0      0.0   \n",
       "4      0.0      0.0      0.0      0.0      0.0      0.0      0.0      0.0   \n",
       "\n",
       "   8        9         ...     2910183  2910184  2910185  2910186  2910187  \\\n",
       "0      0.0      0.0   ...         0.0      0.0      0.0      0.0      0.0   \n",
       "1      0.0      0.0   ...         0.0      0.0      0.0      0.0      0.0   \n",
       "2      0.0      0.0   ...         0.0      0.0      0.0      0.0      0.0   \n",
       "3      0.0      0.0   ...         0.0      0.0      0.0      0.0      0.0   \n",
       "4      0.0      0.0   ...         0.0      0.0      0.0      0.0      0.0   \n",
       "\n",
       "   2910188  2910189  2910190  2910191  2910192  \n",
       "0      0.0      0.0      0.0      0.0        1  \n",
       "1      0.0      0.0      0.0      0.0        1  \n",
       "2      0.0      0.0      0.0      0.0        1  \n",
       "3      0.0      0.0      0.0      0.0        1  \n",
       "4      0.0      0.0      0.0      0.0        1  \n",
       "\n",
       "[5 rows x 2910193 columns]"
      ]
     },
     "execution_count": 37,
     "metadata": {},
     "output_type": "execute_result"
    }
   ],
   "source": [
    "tf_idf_dataset.head()"
   ]
  },
  {
   "cell_type": "code",
   "execution_count": 38,
   "metadata": {},
   "outputs": [],
   "source": [
    "#del tf_idf_sample"
   ]
  },
  {
   "cell_type": "code",
   "execution_count": 39,
   "metadata": {},
   "outputs": [],
   "source": [
    "tf_idf_sample = tf_idf_dataset[0:120]"
   ]
  },
  {
   "cell_type": "code",
   "execution_count": 40,
   "metadata": {},
   "outputs": [],
   "source": [
    "\n",
    "# Total data frame\n",
    "x = np.array(tf_idf_sample.iloc[:,0:2910194])\n",
    "\n",
    "# this is only Score/rating  of data\n",
    "y = np.array(tf_idf_sample[2910192])"
   ]
  },
  {
   "cell_type": "code",
   "execution_count": 41,
   "metadata": {},
   "outputs": [],
   "source": [
    "#splitting the train and test data\n",
    "\n",
    "x_1, x_test, y_1, y_test = cross_validation.train_test_split(x,y, test_size=0.3, random_state=0)\n"
   ]
  },
  {
   "cell_type": "code",
   "execution_count": 42,
   "metadata": {},
   "outputs": [
    {
     "name": "stdout",
     "output_type": "stream",
     "text": [
      "\n",
      "The optimal number of neighbors is 1.\n"
     ]
    },
    {
     "data": {
      "image/png": "[encoded data removed]",
      "text/plain": [
       "<matplotlib.figure.Figure at 0x232486f27f0>"
      ]
     },
     "metadata": {},
     "output_type": "display_data"
    },
    {
     "name": "stdout",
     "output_type": "stream",
     "text": [
      "the Accuracy for each k value is :  [100.    100.     98.571  97.143  95.714  92.857  92.857]\n",
      "*********************************************************************\n",
      "optimal k value is:  1\n"
     ]
    }
   ],
   "source": [
    "opt_val = k_fold_cross_validation(x_1,y_1)"
   ]
  },
  {
   "cell_type": "code",
   "execution_count": 43,
   "metadata": {},
   "outputs": [
    {
     "name": "stdout",
     "output_type": "stream",
     "text": [
      "\n",
      "The accuracy of the knn classifier for k = 1 is 100.000000%\n"
     ]
    }
   ],
   "source": [
    "knn_optimal = KNeighborsClassifier(n_neighbors=opt_val)\n",
    "\n",
    "# fitting the model\n",
    "knn_optimal.fit(x_1, y_1)\n",
    "\n",
    "# predict the response\n",
    "pred = knn_optimal.predict(x_test)\n",
    "\n",
    "# evaluate accuracy\n",
    "acc = accuracy_score(y_test, pred) * 100\n",
    "print('\\nThe accuracy of the knn classifier for k = %d is %f%%' % (opt_val, acc))"
   ]
  },
  {
   "cell_type": "markdown",
   "metadata": {},
   "source": [
    "# W2V K-Fold CV"
   ]
  },
  {
   "cell_type": "code",
   "execution_count": 38,
   "metadata": {},
   "outputs": [],
   "source": [
    "# converting our list of sentences obtained by W2V to data frame\n",
    "sentence_vec_df = pd.DataFrame(sent_vectors)"
   ]
  },
  {
   "cell_type": "code",
   "execution_count": 39,
   "metadata": {},
   "outputs": [
    {
     "data": {
      "text/plain": [
       "(364171, 50)"
      ]
     },
     "execution_count": 39,
     "metadata": {},
     "output_type": "execute_result"
    }
   ],
   "source": [
    "sentence_vec_df.shape"
   ]
  },
  {
   "cell_type": "code",
   "execution_count": 40,
   "metadata": {},
   "outputs": [
    {
     "data": {
      "text/plain": [
       "364171"
      ]
     },
     "execution_count": 40,
     "metadata": {},
     "output_type": "execute_result"
    }
   ],
   "source": [
    "len(final_scores)"
   ]
  },
  {
   "cell_type": "code",
   "execution_count": 41,
   "metadata": {},
   "outputs": [],
   "source": [
    "# Appending scores col to df in the name of 50(col name)\n",
    "sentence_vec_df[50] = pd.Series(final_scores)"
   ]
  },
  {
   "cell_type": "code",
   "execution_count": 42,
   "metadata": {},
   "outputs": [
    {
     "data": {
      "text/html": [
       "<div>\n",
       "<style scoped>\n",
       "    .dataframe tbody tr th:only-of-type {\n",
       "        vertical-align: middle;\n",
       "    }\n",
       "\n",
       "    .dataframe tbody tr th {\n",
       "        vertical-align: top;\n",
       "    }\n",
       "\n",
       "    .dataframe thead th {\n",
       "        text-align: right;\n",
       "    }\n",
       "</style>\n",
       "<table border=\"1\" class=\"dataframe\">\n",
       "  <thead>\n",
       "    <tr style=\"text-align: right;\">\n",
       "      <th></th>\n",
       "      <th>0</th>\n",
       "      <th>1</th>\n",
       "      <th>2</th>\n",
       "      <th>3</th>\n",
       "      <th>4</th>\n",
       "      <th>5</th>\n",
       "      <th>6</th>\n",
       "      <th>7</th>\n",
       "      <th>8</th>\n",
       "      <th>9</th>\n",
       "      <th>...</th>\n",
       "      <th>41</th>\n",
       "      <th>42</th>\n",
       "      <th>43</th>\n",
       "      <th>44</th>\n",
       "      <th>45</th>\n",
       "      <th>46</th>\n",
       "      <th>47</th>\n",
       "      <th>48</th>\n",
       "      <th>49</th>\n",
       "      <th>50</th>\n",
       "    </tr>\n",
       "  </thead>\n",
       "  <tbody>\n",
       "    <tr>\n",
       "      <th>0</th>\n",
       "      <td>0.470370</td>\n",
       "      <td>0.089819</td>\n",
       "      <td>-0.932643</td>\n",
       "      <td>0.078636</td>\n",
       "      <td>-0.489576</td>\n",
       "      <td>-0.003041</td>\n",
       "      <td>-0.508256</td>\n",
       "      <td>0.053643</td>\n",
       "      <td>-0.002099</td>\n",
       "      <td>-0.593551</td>\n",
       "      <td>...</td>\n",
       "      <td>-0.248097</td>\n",
       "      <td>0.260498</td>\n",
       "      <td>0.253784</td>\n",
       "      <td>0.264965</td>\n",
       "      <td>-1.380215</td>\n",
       "      <td>-0.715204</td>\n",
       "      <td>0.363380</td>\n",
       "      <td>0.136767</td>\n",
       "      <td>-0.764389</td>\n",
       "      <td>1</td>\n",
       "    </tr>\n",
       "    <tr>\n",
       "      <th>1</th>\n",
       "      <td>0.379767</td>\n",
       "      <td>0.136434</td>\n",
       "      <td>-0.950553</td>\n",
       "      <td>0.471311</td>\n",
       "      <td>-1.138942</td>\n",
       "      <td>0.802141</td>\n",
       "      <td>-0.579295</td>\n",
       "      <td>0.520531</td>\n",
       "      <td>0.376921</td>\n",
       "      <td>-0.363079</td>\n",
       "      <td>...</td>\n",
       "      <td>-0.335022</td>\n",
       "      <td>-0.805269</td>\n",
       "      <td>-0.044389</td>\n",
       "      <td>0.487194</td>\n",
       "      <td>-1.128237</td>\n",
       "      <td>-0.292659</td>\n",
       "      <td>0.469432</td>\n",
       "      <td>-0.092853</td>\n",
       "      <td>-0.754410</td>\n",
       "      <td>1</td>\n",
       "    </tr>\n",
       "    <tr>\n",
       "      <th>2</th>\n",
       "      <td>0.505154</td>\n",
       "      <td>0.327262</td>\n",
       "      <td>-1.534104</td>\n",
       "      <td>0.359884</td>\n",
       "      <td>-1.418530</td>\n",
       "      <td>0.005621</td>\n",
       "      <td>0.124076</td>\n",
       "      <td>0.277993</td>\n",
       "      <td>0.083654</td>\n",
       "      <td>-1.251413</td>\n",
       "      <td>...</td>\n",
       "      <td>0.315080</td>\n",
       "      <td>0.688163</td>\n",
       "      <td>0.547938</td>\n",
       "      <td>0.695507</td>\n",
       "      <td>-1.299314</td>\n",
       "      <td>-0.713692</td>\n",
       "      <td>0.782679</td>\n",
       "      <td>0.333123</td>\n",
       "      <td>-0.249831</td>\n",
       "      <td>1</td>\n",
       "    </tr>\n",
       "    <tr>\n",
       "      <th>3</th>\n",
       "      <td>0.437835</td>\n",
       "      <td>0.145117</td>\n",
       "      <td>-0.788995</td>\n",
       "      <td>0.350910</td>\n",
       "      <td>-0.847932</td>\n",
       "      <td>0.188851</td>\n",
       "      <td>-0.449225</td>\n",
       "      <td>-0.126257</td>\n",
       "      <td>0.036682</td>\n",
       "      <td>-0.282203</td>\n",
       "      <td>...</td>\n",
       "      <td>-0.108464</td>\n",
       "      <td>-0.396189</td>\n",
       "      <td>0.108855</td>\n",
       "      <td>0.590910</td>\n",
       "      <td>-1.171183</td>\n",
       "      <td>-0.702059</td>\n",
       "      <td>-0.002717</td>\n",
       "      <td>0.100347</td>\n",
       "      <td>-0.226802</td>\n",
       "      <td>1</td>\n",
       "    </tr>\n",
       "    <tr>\n",
       "      <th>4</th>\n",
       "      <td>0.526293</td>\n",
       "      <td>0.086541</td>\n",
       "      <td>-0.959209</td>\n",
       "      <td>0.275098</td>\n",
       "      <td>-0.777519</td>\n",
       "      <td>-0.190007</td>\n",
       "      <td>-0.015043</td>\n",
       "      <td>0.227957</td>\n",
       "      <td>0.386135</td>\n",
       "      <td>-0.843487</td>\n",
       "      <td>...</td>\n",
       "      <td>0.225352</td>\n",
       "      <td>0.313352</td>\n",
       "      <td>-0.038271</td>\n",
       "      <td>0.651537</td>\n",
       "      <td>-1.004038</td>\n",
       "      <td>-1.101443</td>\n",
       "      <td>0.515672</td>\n",
       "      <td>0.398562</td>\n",
       "      <td>-0.200929</td>\n",
       "      <td>1</td>\n",
       "    </tr>\n",
       "  </tbody>\n",
       "</table>\n",
       "<p>5 rows × 51 columns</p>\n",
       "</div>"
      ],
      "text/plain": [
       "         0         1         2         3         4         5         6   \\\n",
       "0  0.470370  0.089819 -0.932643  0.078636 -0.489576 -0.003041 -0.508256   \n",
       "1  0.379767  0.136434 -0.950553  0.471311 -1.138942  0.802141 -0.579295   \n",
       "2  0.505154  0.327262 -1.534104  0.359884 -1.418530  0.005621  0.124076   \n",
       "3  0.437835  0.145117 -0.788995  0.350910 -0.847932  0.188851 -0.449225   \n",
       "4  0.526293  0.086541 -0.959209  0.275098 -0.777519 -0.190007 -0.015043   \n",
       "\n",
       "         7         8         9  ...        41        42        43        44  \\\n",
       "0  0.053643 -0.002099 -0.593551 ... -0.248097  0.260498  0.253784  0.264965   \n",
       "1  0.520531  0.376921 -0.363079 ... -0.335022 -0.805269 -0.044389  0.487194   \n",
       "2  0.277993  0.083654 -1.251413 ...  0.315080  0.688163  0.547938  0.695507   \n",
       "3 -0.126257  0.036682 -0.282203 ... -0.108464 -0.396189  0.108855  0.590910   \n",
       "4  0.227957  0.386135 -0.843487 ...  0.225352  0.313352 -0.038271  0.651537   \n",
       "\n",
       "         45        46        47        48        49  50  \n",
       "0 -1.380215 -0.715204  0.363380  0.136767 -0.764389   1  \n",
       "1 -1.128237 -0.292659  0.469432 -0.092853 -0.754410   1  \n",
       "2 -1.299314 -0.713692  0.782679  0.333123 -0.249831   1  \n",
       "3 -1.171183 -0.702059 -0.002717  0.100347 -0.226802   1  \n",
       "4 -1.004038 -1.101443  0.515672  0.398562 -0.200929   1  \n",
       "\n",
       "[5 rows x 51 columns]"
      ]
     },
     "execution_count": 42,
     "metadata": {},
     "output_type": "execute_result"
    }
   ],
   "source": [
    "sentence_vec_df.head()"
   ]
  },
  {
   "cell_type": "code",
   "execution_count": 43,
   "metadata": {},
   "outputs": [],
   "source": [
    "sent_vec_sample = sentence_vec_df[0:10000]\n",
    "#sentence_vec_df[sentence_vec_df[50]==None]"
   ]
  },
  {
   "cell_type": "code",
   "execution_count": 44,
   "metadata": {},
   "outputs": [
    {
     "data": {
      "text/html": [
       "<div>\n",
       "<style scoped>\n",
       "    .dataframe tbody tr th:only-of-type {\n",
       "        vertical-align: middle;\n",
       "    }\n",
       "\n",
       "    .dataframe tbody tr th {\n",
       "        vertical-align: top;\n",
       "    }\n",
       "\n",
       "    .dataframe thead th {\n",
       "        text-align: right;\n",
       "    }\n",
       "</style>\n",
       "<table border=\"1\" class=\"dataframe\">\n",
       "  <thead>\n",
       "    <tr style=\"text-align: right;\">\n",
       "      <th></th>\n",
       "      <th>0</th>\n",
       "      <th>1</th>\n",
       "      <th>2</th>\n",
       "      <th>3</th>\n",
       "      <th>4</th>\n",
       "      <th>5</th>\n",
       "      <th>6</th>\n",
       "      <th>7</th>\n",
       "      <th>8</th>\n",
       "      <th>9</th>\n",
       "      <th>...</th>\n",
       "      <th>41</th>\n",
       "      <th>42</th>\n",
       "      <th>43</th>\n",
       "      <th>44</th>\n",
       "      <th>45</th>\n",
       "      <th>46</th>\n",
       "      <th>47</th>\n",
       "      <th>48</th>\n",
       "      <th>49</th>\n",
       "      <th>50</th>\n",
       "    </tr>\n",
       "  </thead>\n",
       "  <tbody>\n",
       "    <tr>\n",
       "      <th>0</th>\n",
       "      <td>0.470370</td>\n",
       "      <td>0.089819</td>\n",
       "      <td>-0.932643</td>\n",
       "      <td>0.078636</td>\n",
       "      <td>-0.489576</td>\n",
       "      <td>-0.003041</td>\n",
       "      <td>-0.508256</td>\n",
       "      <td>0.053643</td>\n",
       "      <td>-0.002099</td>\n",
       "      <td>-0.593551</td>\n",
       "      <td>...</td>\n",
       "      <td>-0.248097</td>\n",
       "      <td>0.260498</td>\n",
       "      <td>0.253784</td>\n",
       "      <td>0.264965</td>\n",
       "      <td>-1.380215</td>\n",
       "      <td>-0.715204</td>\n",
       "      <td>0.363380</td>\n",
       "      <td>0.136767</td>\n",
       "      <td>-0.764389</td>\n",
       "      <td>1</td>\n",
       "    </tr>\n",
       "    <tr>\n",
       "      <th>1</th>\n",
       "      <td>0.379767</td>\n",
       "      <td>0.136434</td>\n",
       "      <td>-0.950553</td>\n",
       "      <td>0.471311</td>\n",
       "      <td>-1.138942</td>\n",
       "      <td>0.802141</td>\n",
       "      <td>-0.579295</td>\n",
       "      <td>0.520531</td>\n",
       "      <td>0.376921</td>\n",
       "      <td>-0.363079</td>\n",
       "      <td>...</td>\n",
       "      <td>-0.335022</td>\n",
       "      <td>-0.805269</td>\n",
       "      <td>-0.044389</td>\n",
       "      <td>0.487194</td>\n",
       "      <td>-1.128237</td>\n",
       "      <td>-0.292659</td>\n",
       "      <td>0.469432</td>\n",
       "      <td>-0.092853</td>\n",
       "      <td>-0.754410</td>\n",
       "      <td>1</td>\n",
       "    </tr>\n",
       "    <tr>\n",
       "      <th>2</th>\n",
       "      <td>0.505154</td>\n",
       "      <td>0.327262</td>\n",
       "      <td>-1.534104</td>\n",
       "      <td>0.359884</td>\n",
       "      <td>-1.418530</td>\n",
       "      <td>0.005621</td>\n",
       "      <td>0.124076</td>\n",
       "      <td>0.277993</td>\n",
       "      <td>0.083654</td>\n",
       "      <td>-1.251413</td>\n",
       "      <td>...</td>\n",
       "      <td>0.315080</td>\n",
       "      <td>0.688163</td>\n",
       "      <td>0.547938</td>\n",
       "      <td>0.695507</td>\n",
       "      <td>-1.299314</td>\n",
       "      <td>-0.713692</td>\n",
       "      <td>0.782679</td>\n",
       "      <td>0.333123</td>\n",
       "      <td>-0.249831</td>\n",
       "      <td>1</td>\n",
       "    </tr>\n",
       "    <tr>\n",
       "      <th>3</th>\n",
       "      <td>0.437835</td>\n",
       "      <td>0.145117</td>\n",
       "      <td>-0.788995</td>\n",
       "      <td>0.350910</td>\n",
       "      <td>-0.847932</td>\n",
       "      <td>0.188851</td>\n",
       "      <td>-0.449225</td>\n",
       "      <td>-0.126257</td>\n",
       "      <td>0.036682</td>\n",
       "      <td>-0.282203</td>\n",
       "      <td>...</td>\n",
       "      <td>-0.108464</td>\n",
       "      <td>-0.396189</td>\n",
       "      <td>0.108855</td>\n",
       "      <td>0.590910</td>\n",
       "      <td>-1.171183</td>\n",
       "      <td>-0.702059</td>\n",
       "      <td>-0.002717</td>\n",
       "      <td>0.100347</td>\n",
       "      <td>-0.226802</td>\n",
       "      <td>1</td>\n",
       "    </tr>\n",
       "    <tr>\n",
       "      <th>4</th>\n",
       "      <td>0.526293</td>\n",
       "      <td>0.086541</td>\n",
       "      <td>-0.959209</td>\n",
       "      <td>0.275098</td>\n",
       "      <td>-0.777519</td>\n",
       "      <td>-0.190007</td>\n",
       "      <td>-0.015043</td>\n",
       "      <td>0.227957</td>\n",
       "      <td>0.386135</td>\n",
       "      <td>-0.843487</td>\n",
       "      <td>...</td>\n",
       "      <td>0.225352</td>\n",
       "      <td>0.313352</td>\n",
       "      <td>-0.038271</td>\n",
       "      <td>0.651537</td>\n",
       "      <td>-1.004038</td>\n",
       "      <td>-1.101443</td>\n",
       "      <td>0.515672</td>\n",
       "      <td>0.398562</td>\n",
       "      <td>-0.200929</td>\n",
       "      <td>1</td>\n",
       "    </tr>\n",
       "  </tbody>\n",
       "</table>\n",
       "<p>5 rows × 51 columns</p>\n",
       "</div>"
      ],
      "text/plain": [
       "         0         1         2         3         4         5         6   \\\n",
       "0  0.470370  0.089819 -0.932643  0.078636 -0.489576 -0.003041 -0.508256   \n",
       "1  0.379767  0.136434 -0.950553  0.471311 -1.138942  0.802141 -0.579295   \n",
       "2  0.505154  0.327262 -1.534104  0.359884 -1.418530  0.005621  0.124076   \n",
       "3  0.437835  0.145117 -0.788995  0.350910 -0.847932  0.188851 -0.449225   \n",
       "4  0.526293  0.086541 -0.959209  0.275098 -0.777519 -0.190007 -0.015043   \n",
       "\n",
       "         7         8         9  ...        41        42        43        44  \\\n",
       "0  0.053643 -0.002099 -0.593551 ... -0.248097  0.260498  0.253784  0.264965   \n",
       "1  0.520531  0.376921 -0.363079 ... -0.335022 -0.805269 -0.044389  0.487194   \n",
       "2  0.277993  0.083654 -1.251413 ...  0.315080  0.688163  0.547938  0.695507   \n",
       "3 -0.126257  0.036682 -0.282203 ... -0.108464 -0.396189  0.108855  0.590910   \n",
       "4  0.227957  0.386135 -0.843487 ...  0.225352  0.313352 -0.038271  0.651537   \n",
       "\n",
       "         45        46        47        48        49  50  \n",
       "0 -1.380215 -0.715204  0.363380  0.136767 -0.764389   1  \n",
       "1 -1.128237 -0.292659  0.469432 -0.092853 -0.754410   1  \n",
       "2 -1.299314 -0.713692  0.782679  0.333123 -0.249831   1  \n",
       "3 -1.171183 -0.702059 -0.002717  0.100347 -0.226802   1  \n",
       "4 -1.004038 -1.101443  0.515672  0.398562 -0.200929   1  \n",
       "\n",
       "[5 rows x 51 columns]"
      ]
     },
     "execution_count": 44,
     "metadata": {},
     "output_type": "execute_result"
    }
   ],
   "source": [
    "sent_vec_sample.head()"
   ]
  },
  {
   "cell_type": "code",
   "execution_count": 45,
   "metadata": {},
   "outputs": [
    {
     "data": {
      "text/plain": [
       "(10000, 51)"
      ]
     },
     "execution_count": 45,
     "metadata": {},
     "output_type": "execute_result"
    }
   ],
   "source": [
    "sent_vec_sample.shape"
   ]
  },
  {
   "cell_type": "code",
   "execution_count": 46,
   "metadata": {},
   "outputs": [],
   "source": [
    "# Total data frame\n",
    "x = np.array(sent_vec_sample.iloc[:,0:51])\n",
    "\n",
    "# this is only Score/rating  of data\n",
    "y = np.array(sent_vec_sample[50])"
   ]
  },
  {
   "cell_type": "code",
   "execution_count": 47,
   "metadata": {},
   "outputs": [],
   "source": [
    "#splitting the train and test data\n",
    "\n",
    "x_1, x_test, y_1, y_test = cross_validation.train_test_split(x,y, test_size=0.2, random_state=0)"
   ]
  },
  {
   "cell_type": "code",
   "execution_count": 48,
   "metadata": {},
   "outputs": [
    {
     "name": "stdout",
     "output_type": "stream",
     "text": [
      "\n",
      "The optimal number of neighbors is 3.\n"
     ]
    },
    {
     "data": {
      "image/png": "[encoded data removed]",
      "text/plain": [
       "<matplotlib.figure.Figure at 0x16388c13b00>"
      ]
     },
     "metadata": {},
     "output_type": "display_data"
    },
    {
     "name": "stdout",
     "output_type": "stream",
     "text": [
      "the Accuracy for each k value is :  [92.971 93.191 92.806 92.05  91.637 91.197 90.743]\n",
      "*********************************************************************\n",
      "optimal k value is:  3\n"
     ]
    }
   ],
   "source": [
    "opt_val = k_fold_cross_validation(x_1,y_1)"
   ]
  },
  {
   "cell_type": "code",
   "execution_count": 49,
   "metadata": {},
   "outputs": [
    {
     "name": "stdout",
     "output_type": "stream",
     "text": [
      "\n",
      "The accuracy of the knn classifier for k = 3 is 93.350000%\n"
     ]
    }
   ],
   "source": [
    "knn_optimal = KNeighborsClassifier(n_neighbors=opt_val)\n",
    "\n",
    "# fitting the model\n",
    "knn_optimal.fit(x_1, y_1)\n",
    "\n",
    "prediction = knn_optimal.predict(x_test)\n",
    "\n",
    "acc = accuracy_score(y_test, prediction) * 100\n",
    "\n",
    "print('\\nThe accuracy of the knn classifier for k = %d is %f%%' % (opt_val, acc))"
   ]
  },
  {
   "cell_type": "markdown",
   "metadata": {},
   "source": [
    "# Weighted TF-IDF W2V K-Fold CV"
   ]
  },
  {
   "cell_type": "code",
   "execution_count": 81,
   "metadata": {},
   "outputs": [
    {
     "data": {
      "text/plain": [
       "1000"
      ]
     },
     "execution_count": 81,
     "metadata": {},
     "output_type": "execute_result"
    }
   ],
   "source": [
    "len(tfidf_sent_vectors)"
   ]
  },
  {
   "cell_type": "code",
   "execution_count": 82,
   "metadata": {},
   "outputs": [],
   "source": [
    "tfidf_sent_vec_df = pd.DataFrame(tfidf_sent_vectors[0:250])"
   ]
  },
  {
   "cell_type": "code",
   "execution_count": 83,
   "metadata": {},
   "outputs": [
    {
     "data": {
      "text/html": [
       "<div>\n",
       "<style scoped>\n",
       "    .dataframe tbody tr th:only-of-type {\n",
       "        vertical-align: middle;\n",
       "    }\n",
       "\n",
       "    .dataframe tbody tr th {\n",
       "        vertical-align: top;\n",
       "    }\n",
       "\n",
       "    .dataframe thead th {\n",
       "        text-align: right;\n",
       "    }\n",
       "</style>\n",
       "<table border=\"1\" class=\"dataframe\">\n",
       "  <thead>\n",
       "    <tr style=\"text-align: right;\">\n",
       "      <th></th>\n",
       "      <th>0</th>\n",
       "      <th>1</th>\n",
       "      <th>2</th>\n",
       "      <th>3</th>\n",
       "      <th>4</th>\n",
       "      <th>5</th>\n",
       "      <th>6</th>\n",
       "      <th>7</th>\n",
       "      <th>8</th>\n",
       "      <th>9</th>\n",
       "      <th>...</th>\n",
       "      <th>40</th>\n",
       "      <th>41</th>\n",
       "      <th>42</th>\n",
       "      <th>43</th>\n",
       "      <th>44</th>\n",
       "      <th>45</th>\n",
       "      <th>46</th>\n",
       "      <th>47</th>\n",
       "      <th>48</th>\n",
       "      <th>49</th>\n",
       "    </tr>\n",
       "  </thead>\n",
       "  <tbody>\n",
       "    <tr>\n",
       "      <th>0</th>\n",
       "      <td>0.639972</td>\n",
       "      <td>0.228737</td>\n",
       "      <td>-0.478446</td>\n",
       "      <td>-0.025983</td>\n",
       "      <td>-0.204506</td>\n",
       "      <td>0.115724</td>\n",
       "      <td>-0.651446</td>\n",
       "      <td>0.115058</td>\n",
       "      <td>0.479241</td>\n",
       "      <td>-0.333295</td>\n",
       "      <td>...</td>\n",
       "      <td>0.223526</td>\n",
       "      <td>0.031623</td>\n",
       "      <td>0.405571</td>\n",
       "      <td>0.137960</td>\n",
       "      <td>0.424301</td>\n",
       "      <td>-0.762108</td>\n",
       "      <td>-0.538821</td>\n",
       "      <td>0.206862</td>\n",
       "      <td>0.256278</td>\n",
       "      <td>-0.528564</td>\n",
       "    </tr>\n",
       "    <tr>\n",
       "      <th>1</th>\n",
       "      <td>0.597142</td>\n",
       "      <td>0.977064</td>\n",
       "      <td>-2.078238</td>\n",
       "      <td>1.469541</td>\n",
       "      <td>-0.760195</td>\n",
       "      <td>0.199414</td>\n",
       "      <td>-0.084249</td>\n",
       "      <td>0.677741</td>\n",
       "      <td>1.079856</td>\n",
       "      <td>-2.042121</td>\n",
       "      <td>...</td>\n",
       "      <td>0.608248</td>\n",
       "      <td>0.175740</td>\n",
       "      <td>0.291414</td>\n",
       "      <td>0.097637</td>\n",
       "      <td>2.069572</td>\n",
       "      <td>-1.736750</td>\n",
       "      <td>-0.667335</td>\n",
       "      <td>1.489277</td>\n",
       "      <td>-1.102863</td>\n",
       "      <td>0.392494</td>\n",
       "    </tr>\n",
       "    <tr>\n",
       "      <th>2</th>\n",
       "      <td>0.467972</td>\n",
       "      <td>-0.782219</td>\n",
       "      <td>-1.611445</td>\n",
       "      <td>0.204595</td>\n",
       "      <td>-1.113786</td>\n",
       "      <td>-0.578520</td>\n",
       "      <td>0.538224</td>\n",
       "      <td>0.553767</td>\n",
       "      <td>-1.625051</td>\n",
       "      <td>-2.481325</td>\n",
       "      <td>...</td>\n",
       "      <td>-0.070859</td>\n",
       "      <td>1.469460</td>\n",
       "      <td>0.831846</td>\n",
       "      <td>-0.013604</td>\n",
       "      <td>1.392836</td>\n",
       "      <td>-2.461882</td>\n",
       "      <td>0.182287</td>\n",
       "      <td>1.982098</td>\n",
       "      <td>-0.964890</td>\n",
       "      <td>0.359775</td>\n",
       "    </tr>\n",
       "    <tr>\n",
       "      <th>3</th>\n",
       "      <td>0.192473</td>\n",
       "      <td>1.329472</td>\n",
       "      <td>-1.137030</td>\n",
       "      <td>0.785490</td>\n",
       "      <td>-0.932510</td>\n",
       "      <td>-0.369897</td>\n",
       "      <td>-0.866361</td>\n",
       "      <td>0.546366</td>\n",
       "      <td>-1.977619</td>\n",
       "      <td>-1.133187</td>\n",
       "      <td>...</td>\n",
       "      <td>0.145662</td>\n",
       "      <td>-0.444272</td>\n",
       "      <td>0.107701</td>\n",
       "      <td>0.219880</td>\n",
       "      <td>0.522319</td>\n",
       "      <td>-2.161988</td>\n",
       "      <td>-0.878698</td>\n",
       "      <td>1.604029</td>\n",
       "      <td>0.237131</td>\n",
       "      <td>0.057109</td>\n",
       "    </tr>\n",
       "    <tr>\n",
       "      <th>4</th>\n",
       "      <td>0.704053</td>\n",
       "      <td>-0.324343</td>\n",
       "      <td>-2.468459</td>\n",
       "      <td>0.894846</td>\n",
       "      <td>-1.036197</td>\n",
       "      <td>0.976732</td>\n",
       "      <td>0.094787</td>\n",
       "      <td>-0.210362</td>\n",
       "      <td>-0.991418</td>\n",
       "      <td>-1.556582</td>\n",
       "      <td>...</td>\n",
       "      <td>-0.030946</td>\n",
       "      <td>-0.620328</td>\n",
       "      <td>0.619873</td>\n",
       "      <td>0.414919</td>\n",
       "      <td>1.901598</td>\n",
       "      <td>-1.664423</td>\n",
       "      <td>-0.695741</td>\n",
       "      <td>1.545660</td>\n",
       "      <td>-0.718486</td>\n",
       "      <td>0.765077</td>\n",
       "    </tr>\n",
       "  </tbody>\n",
       "</table>\n",
       "<p>5 rows × 50 columns</p>\n",
       "</div>"
      ],
      "text/plain": [
       "         0         1         2         3         4         5         6   \\\n",
       "0  0.639972  0.228737 -0.478446 -0.025983 -0.204506  0.115724 -0.651446   \n",
       "1  0.597142  0.977064 -2.078238  1.469541 -0.760195  0.199414 -0.084249   \n",
       "2  0.467972 -0.782219 -1.611445  0.204595 -1.113786 -0.578520  0.538224   \n",
       "3  0.192473  1.329472 -1.137030  0.785490 -0.932510 -0.369897 -0.866361   \n",
       "4  0.704053 -0.324343 -2.468459  0.894846 -1.036197  0.976732  0.094787   \n",
       "\n",
       "         7         8         9     ...           40        41        42  \\\n",
       "0  0.115058  0.479241 -0.333295    ...     0.223526  0.031623  0.405571   \n",
       "1  0.677741  1.079856 -2.042121    ...     0.608248  0.175740  0.291414   \n",
       "2  0.553767 -1.625051 -2.481325    ...    -0.070859  1.469460  0.831846   \n",
       "3  0.546366 -1.977619 -1.133187    ...     0.145662 -0.444272  0.107701   \n",
       "4 -0.210362 -0.991418 -1.556582    ...    -0.030946 -0.620328  0.619873   \n",
       "\n",
       "         43        44        45        46        47        48        49  \n",
       "0  0.137960  0.424301 -0.762108 -0.538821  0.206862  0.256278 -0.528564  \n",
       "1  0.097637  2.069572 -1.736750 -0.667335  1.489277 -1.102863  0.392494  \n",
       "2 -0.013604  1.392836 -2.461882  0.182287  1.982098 -0.964890  0.359775  \n",
       "3  0.219880  0.522319 -2.161988 -0.878698  1.604029  0.237131  0.057109  \n",
       "4  0.414919  1.901598 -1.664423 -0.695741  1.545660 -0.718486  0.765077  \n",
       "\n",
       "[5 rows x 50 columns]"
      ]
     },
     "execution_count": 83,
     "metadata": {},
     "output_type": "execute_result"
    }
   ],
   "source": [
    "tfidf_sent_vec_df.head()"
   ]
  },
  {
   "cell_type": "code",
   "execution_count": 84,
   "metadata": {},
   "outputs": [],
   "source": [
    "tfidf_sent_vec_df[50] = pd.Series(final_scores[0:250])"
   ]
  },
  {
   "cell_type": "code",
   "execution_count": 85,
   "metadata": {},
   "outputs": [
    {
     "data": {
      "text/html": [
       "<div>\n",
       "<style scoped>\n",
       "    .dataframe tbody tr th:only-of-type {\n",
       "        vertical-align: middle;\n",
       "    }\n",
       "\n",
       "    .dataframe tbody tr th {\n",
       "        vertical-align: top;\n",
       "    }\n",
       "\n",
       "    .dataframe thead th {\n",
       "        text-align: right;\n",
       "    }\n",
       "</style>\n",
       "<table border=\"1\" class=\"dataframe\">\n",
       "  <thead>\n",
       "    <tr style=\"text-align: right;\">\n",
       "      <th></th>\n",
       "      <th>0</th>\n",
       "      <th>1</th>\n",
       "      <th>2</th>\n",
       "      <th>3</th>\n",
       "      <th>4</th>\n",
       "      <th>5</th>\n",
       "      <th>6</th>\n",
       "      <th>7</th>\n",
       "      <th>8</th>\n",
       "      <th>9</th>\n",
       "      <th>...</th>\n",
       "      <th>41</th>\n",
       "      <th>42</th>\n",
       "      <th>43</th>\n",
       "      <th>44</th>\n",
       "      <th>45</th>\n",
       "      <th>46</th>\n",
       "      <th>47</th>\n",
       "      <th>48</th>\n",
       "      <th>49</th>\n",
       "      <th>50</th>\n",
       "    </tr>\n",
       "  </thead>\n",
       "  <tbody>\n",
       "    <tr>\n",
       "      <th>0</th>\n",
       "      <td>0.639972</td>\n",
       "      <td>0.228737</td>\n",
       "      <td>-0.478446</td>\n",
       "      <td>-0.025983</td>\n",
       "      <td>-0.204506</td>\n",
       "      <td>0.115724</td>\n",
       "      <td>-0.651446</td>\n",
       "      <td>0.115058</td>\n",
       "      <td>0.479241</td>\n",
       "      <td>-0.333295</td>\n",
       "      <td>...</td>\n",
       "      <td>0.031623</td>\n",
       "      <td>0.405571</td>\n",
       "      <td>0.137960</td>\n",
       "      <td>0.424301</td>\n",
       "      <td>-0.762108</td>\n",
       "      <td>-0.538821</td>\n",
       "      <td>0.206862</td>\n",
       "      <td>0.256278</td>\n",
       "      <td>-0.528564</td>\n",
       "      <td>1</td>\n",
       "    </tr>\n",
       "    <tr>\n",
       "      <th>1</th>\n",
       "      <td>0.597142</td>\n",
       "      <td>0.977064</td>\n",
       "      <td>-2.078238</td>\n",
       "      <td>1.469541</td>\n",
       "      <td>-0.760195</td>\n",
       "      <td>0.199414</td>\n",
       "      <td>-0.084249</td>\n",
       "      <td>0.677741</td>\n",
       "      <td>1.079856</td>\n",
       "      <td>-2.042121</td>\n",
       "      <td>...</td>\n",
       "      <td>0.175740</td>\n",
       "      <td>0.291414</td>\n",
       "      <td>0.097637</td>\n",
       "      <td>2.069572</td>\n",
       "      <td>-1.736750</td>\n",
       "      <td>-0.667335</td>\n",
       "      <td>1.489277</td>\n",
       "      <td>-1.102863</td>\n",
       "      <td>0.392494</td>\n",
       "      <td>1</td>\n",
       "    </tr>\n",
       "    <tr>\n",
       "      <th>2</th>\n",
       "      <td>0.467972</td>\n",
       "      <td>-0.782219</td>\n",
       "      <td>-1.611445</td>\n",
       "      <td>0.204595</td>\n",
       "      <td>-1.113786</td>\n",
       "      <td>-0.578520</td>\n",
       "      <td>0.538224</td>\n",
       "      <td>0.553767</td>\n",
       "      <td>-1.625051</td>\n",
       "      <td>-2.481325</td>\n",
       "      <td>...</td>\n",
       "      <td>1.469460</td>\n",
       "      <td>0.831846</td>\n",
       "      <td>-0.013604</td>\n",
       "      <td>1.392836</td>\n",
       "      <td>-2.461882</td>\n",
       "      <td>0.182287</td>\n",
       "      <td>1.982098</td>\n",
       "      <td>-0.964890</td>\n",
       "      <td>0.359775</td>\n",
       "      <td>1</td>\n",
       "    </tr>\n",
       "    <tr>\n",
       "      <th>3</th>\n",
       "      <td>0.192473</td>\n",
       "      <td>1.329472</td>\n",
       "      <td>-1.137030</td>\n",
       "      <td>0.785490</td>\n",
       "      <td>-0.932510</td>\n",
       "      <td>-0.369897</td>\n",
       "      <td>-0.866361</td>\n",
       "      <td>0.546366</td>\n",
       "      <td>-1.977619</td>\n",
       "      <td>-1.133187</td>\n",
       "      <td>...</td>\n",
       "      <td>-0.444272</td>\n",
       "      <td>0.107701</td>\n",
       "      <td>0.219880</td>\n",
       "      <td>0.522319</td>\n",
       "      <td>-2.161988</td>\n",
       "      <td>-0.878698</td>\n",
       "      <td>1.604029</td>\n",
       "      <td>0.237131</td>\n",
       "      <td>0.057109</td>\n",
       "      <td>1</td>\n",
       "    </tr>\n",
       "    <tr>\n",
       "      <th>4</th>\n",
       "      <td>0.704053</td>\n",
       "      <td>-0.324343</td>\n",
       "      <td>-2.468459</td>\n",
       "      <td>0.894846</td>\n",
       "      <td>-1.036197</td>\n",
       "      <td>0.976732</td>\n",
       "      <td>0.094787</td>\n",
       "      <td>-0.210362</td>\n",
       "      <td>-0.991418</td>\n",
       "      <td>-1.556582</td>\n",
       "      <td>...</td>\n",
       "      <td>-0.620328</td>\n",
       "      <td>0.619873</td>\n",
       "      <td>0.414919</td>\n",
       "      <td>1.901598</td>\n",
       "      <td>-1.664423</td>\n",
       "      <td>-0.695741</td>\n",
       "      <td>1.545660</td>\n",
       "      <td>-0.718486</td>\n",
       "      <td>0.765077</td>\n",
       "      <td>1</td>\n",
       "    </tr>\n",
       "  </tbody>\n",
       "</table>\n",
       "<p>5 rows × 51 columns</p>\n",
       "</div>"
      ],
      "text/plain": [
       "         0         1         2         3         4         5         6   \\\n",
       "0  0.639972  0.228737 -0.478446 -0.025983 -0.204506  0.115724 -0.651446   \n",
       "1  0.597142  0.977064 -2.078238  1.469541 -0.760195  0.199414 -0.084249   \n",
       "2  0.467972 -0.782219 -1.611445  0.204595 -1.113786 -0.578520  0.538224   \n",
       "3  0.192473  1.329472 -1.137030  0.785490 -0.932510 -0.369897 -0.866361   \n",
       "4  0.704053 -0.324343 -2.468459  0.894846 -1.036197  0.976732  0.094787   \n",
       "\n",
       "         7         8         9  ...        41        42        43        44  \\\n",
       "0  0.115058  0.479241 -0.333295 ...  0.031623  0.405571  0.137960  0.424301   \n",
       "1  0.677741  1.079856 -2.042121 ...  0.175740  0.291414  0.097637  2.069572   \n",
       "2  0.553767 -1.625051 -2.481325 ...  1.469460  0.831846 -0.013604  1.392836   \n",
       "3  0.546366 -1.977619 -1.133187 ... -0.444272  0.107701  0.219880  0.522319   \n",
       "4 -0.210362 -0.991418 -1.556582 ... -0.620328  0.619873  0.414919  1.901598   \n",
       "\n",
       "         45        46        47        48        49  50  \n",
       "0 -0.762108 -0.538821  0.206862  0.256278 -0.528564   1  \n",
       "1 -1.736750 -0.667335  1.489277 -1.102863  0.392494   1  \n",
       "2 -2.461882  0.182287  1.982098 -0.964890  0.359775   1  \n",
       "3 -2.161988 -0.878698  1.604029  0.237131  0.057109   1  \n",
       "4 -1.664423 -0.695741  1.545660 -0.718486  0.765077   1  \n",
       "\n",
       "[5 rows x 51 columns]"
      ]
     },
     "execution_count": 85,
     "metadata": {},
     "output_type": "execute_result"
    }
   ],
   "source": [
    "tfidf_sent_vec_df.head()"
   ]
  },
  {
   "cell_type": "code",
   "execution_count": 86,
   "metadata": {},
   "outputs": [],
   "source": [
    "x = np.array(tfidf_sent_vec_df.iloc[:,0:51])\n",
    "\n",
    "y = np.array(tfidf_sent_vec_df[50]) "
   ]
  },
  {
   "cell_type": "code",
   "execution_count": 87,
   "metadata": {},
   "outputs": [],
   "source": [
    "x_1, x_test, y_1, y_test = cross_validation.train_test_split(x,y, test_size=0.3, random_state = 0)"
   ]
  },
  {
   "cell_type": "code",
   "execution_count": 88,
   "metadata": {},
   "outputs": [
    {
     "data": {
      "text/plain": [
       "75"
      ]
     },
     "execution_count": 88,
     "metadata": {},
     "output_type": "execute_result"
    }
   ],
   "source": [
    "len(y_test)"
   ]
  },
  {
   "cell_type": "code",
   "execution_count": 89,
   "metadata": {},
   "outputs": [
    {
     "name": "stdout",
     "output_type": "stream",
     "text": [
      "\n",
      "The optimal number of neighbors is 3.\n"
     ]
    },
    {
     "data": {
      "image/png": "[encoded data removed]",
      "text/plain": [
       "<matplotlib.figure.Figure at 0x232486f2a58>"
      ]
     },
     "metadata": {},
     "output_type": "display_data"
    },
    {
     "name": "stdout",
     "output_type": "stream",
     "text": [
      "the Accuracy for each k value is :  [91.034 93.103 93.103 93.103 93.103 93.103 93.103]\n",
      "*********************************************************************\n",
      "optimal k value is:  3\n"
     ]
    }
   ],
   "source": [
    "opt_val = k_fold_cross_validation(x_1,y_1)"
   ]
  },
  {
   "cell_type": "code",
   "execution_count": 90,
   "metadata": {},
   "outputs": [
    {
     "name": "stdout",
     "output_type": "stream",
     "text": [
      "\n",
      "The accuracy of the knn classifier for k = 3 is 94.666667%\n"
     ]
    }
   ],
   "source": [
    "knn_optimal = KNeighborsClassifier(n_neighbors=3)\n",
    "\n",
    "knn_optimal.fit(x_1,y_1)\n",
    "\n",
    "pred = knn_optimal.predict(x_test)\n",
    "\n",
    "acc = accuracy_score(y_test,pred) * 100\n",
    "\n",
    "print('\\nThe accuracy of the knn classifier for k = %d is %f%%' % (opt_val, acc))"
   ]
  },
  {
   "cell_type": "markdown",
   "metadata": {},
   "source": [
    "# Summary:<br>\n",
    "After performing K-Fold Cross Validation here are the results of diff techniques:<br>\n",
    "\n",
    "1) BOW -> k = 3 acc= 93% <br>\n",
    "2) TF-IDF -> k = 1 acc = 100% (as we have considered less amt of data)<br>\n",
    "3) W2V -> k = 5 acc = 93.35%<br>\n",
    "4) Weighted TF-IDF W2V -> k = 3 acc = 94.67%"
   ]
  },
  {
   "cell_type": "code",
   "execution_count": null,
   "metadata": {},
   "outputs": [],
   "source": []
  }
 ],
 "metadata": {
  "kernelspec": {
   "display_name": "Python 3",
   "language": "python",
   "name": "python3"
  },
  "language_info": {
   "codemirror_mode": {
    "name": "ipython",
    "version": 3
   },
   "file_extension": ".py",
   "mimetype": "text/x-python",
   "name": "python",
   "nbconvert_exporter": "python",
   "pygments_lexer": "ipython3",
   "version": "3.6.4"
  }
 },
 "nbformat": 4,
 "nbformat_minor": 2
}
